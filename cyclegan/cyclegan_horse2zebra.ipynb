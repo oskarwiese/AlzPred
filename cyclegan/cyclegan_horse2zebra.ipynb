{
 "cells": [
  {
   "cell_type": "markdown",
   "source": [
    "# HORSE2ZEBRA BACKUP"
   ],
   "metadata": {}
  },
  {
   "cell_type": "code",
   "execution_count": 1,
   "source": [
    "import numpy as np\r\n",
    "from tqdm.notebook import tqdm\r\n",
    "import torch\r\n",
    "import torchvision\r\n",
    "import torch.nn as nn\r\n",
    "import torch.nn.functional as F\r\n",
    "import torchvision.datasets as datasets\r\n",
    "from torch.utils.data import Dataset, DataLoader\r\n",
    "import torchvision.transforms as transforms\r\n",
    "from IPython import display\r\n",
    "import matplotlib.pylab as plt\r\n",
    "import ipywidgets"
   ],
   "outputs": [],
   "metadata": {
    "id": "47nzjxI_CGX3"
   }
  },
  {
   "cell_type": "markdown",
   "source": [
    "# Load Horse2Zebra data"
   ],
   "metadata": {
    "id": "BGByM6KPlrwJ"
   }
  },
  {
   "cell_type": "code",
   "execution_count": 2,
   "source": [
    "from google.colab import drive\r\n",
    "drive.mount('/content/drive')"
   ],
   "outputs": [
    {
     "output_type": "stream",
     "name": "stdout",
     "text": [
      "Mounted at /content/drive\n"
     ]
    }
   ],
   "metadata": {
    "colab": {
     "base_uri": "https://localhost:8080/"
    },
    "id": "IaBeL5J_lvdz",
    "outputId": "2195641b-33f3-45b0-d7d6-e726d7cb93d5"
   }
  },
  {
   "cell_type": "code",
   "execution_count": 3,
   "source": [
    "#batch_size = 64\n",
    "batch_size = 5\n",
    "color_channels = 3\n",
    "image_size = (256,256)\n",
    "\n",
    "dataroot = r\"/content/drive/MyDrive/bachelor - cyclegan/horse2zebra/train/A/\"\n",
    "dataset_horse_train = datasets.ImageFolder(root=dataroot,\n",
    "                           transform=transforms.Compose([\n",
    "                               transforms.Resize(image_size),\n",
    "                               transforms.CenterCrop(image_size),\n",
    "                               transforms.ToTensor(),\n",
    "                               transforms.Normalize((0, 0, 0), (1, 1, 1)),\n",
    "                              ]))\n",
    "dataloader_train_horse = torch.utils.data.DataLoader(dataset_horse_train, batch_size=batch_size,\n",
    "                                         shuffle=True, num_workers = 1)\n",
    "\n",
    "dataroot = r\"/content/drive/MyDrive/bachelor - cyclegan/horse2zebra/test/A/\"\n",
    "dataset_horse_test = datasets.ImageFolder(root=dataroot,\n",
    "                           transform=transforms.Compose([\n",
    "                               transforms.Resize(image_size),\n",
    "                               transforms.CenterCrop(image_size),\n",
    "                               transforms.ToTensor(),\n",
    "                               transforms.Normalize((0, 0, 0), (1, 1, 1)),\n",
    "                              ]))\n",
    "dataloader_test_horse = torch.utils.data.DataLoader(dataset_horse_test, batch_size=batch_size,\n",
    "                                         shuffle=True, num_workers=1)\n",
    "\n",
    "dataroot = r\"/content/drive/MyDrive/bachelor - cyclegan/horse2zebra/train/B/\"\n",
    "dataset_zebra_train = datasets.ImageFolder(root=dataroot,\n",
    "                           transform=transforms.Compose([\n",
    "                               transforms.Resize(image_size),\n",
    "                               transforms.CenterCrop(image_size),\n",
    "                               transforms.ToTensor(),\n",
    "                               transforms.Normalize((0, 0, 0), (1, 1, 1)),\n",
    "                              ]))\n",
    "dataloader_zebra_train = torch.utils.data.DataLoader(dataset_zebra_train, batch_size=batch_size,\n",
    "                                         shuffle=True, num_workers = 1)\n",
    "\n",
    "dataroot = r\"/content/drive/MyDrive/bachelor - cyclegan/horse2zebra/test/B/\"\n",
    "dataset_zebra_test = datasets.ImageFolder(root=dataroot,\n",
    "                           transform=transforms.Compose([\n",
    "                               transforms.Resize(image_size),\n",
    "                               transforms.CenterCrop(image_size),\n",
    "                               transforms.ToTensor(),\n",
    "                               transforms.Normalize((0, 0, 0), (1, 1, 1)),\n",
    "                              ]))\n",
    "dataloader_zebra_test = torch.utils.data.DataLoader(dataset_zebra_test, batch_size=batch_size,\n",
    "                                         shuffle=True, num_workers = 1)"
   ],
   "outputs": [],
   "metadata": {
    "id": "eM0FnWhwzbDN"
   }
  },
  {
   "cell_type": "code",
   "execution_count": 4,
   "source": [
    "if torch.cuda.is_available():\n",
    "    print(\"The code will run on GPU.\")\n",
    "else:\n",
    "    print(\"The code will run on CPU. Go to Edit->Notebook Settings and choose GPU as the hardware accelerator\")\n",
    "device = torch.device('cuda' if torch.cuda.is_available() else 'cpu')"
   ],
   "outputs": [
    {
     "output_type": "stream",
     "name": "stdout",
     "text": [
      "The code will run on GPU.\n"
     ]
    }
   ],
   "metadata": {
    "colab": {
     "base_uri": "https://localhost:8080/"
    },
    "id": "NmG1sJLICR5M",
    "outputId": "10bf1f0f-bb0c-4b09-f68e-40ba38196075"
   }
  },
  {
   "cell_type": "markdown",
   "source": [
    "#Generator"
   ],
   "metadata": {
    "id": "6Nkoh0umC65N"
   }
  },
  {
   "cell_type": "code",
   "execution_count": 5,
   "source": [
    "def conv_norm_act(in_dim, out_dim, kernel_size, stride, padding=0,\n",
    "                  norm=nn.BatchNorm2d, relu=nn.ReLU):\n",
    "    return nn.Sequential(\n",
    "        nn.Conv2d(in_dim, out_dim, kernel_size, stride, padding, bias=False),\n",
    "        norm(out_dim),\n",
    "        relu())\n",
    "\n",
    "\n",
    "def dconv_norm_act(in_dim, out_dim, kernel_size, stride, padding=0,\n",
    "                   output_padding=0, norm=nn.BatchNorm2d, relu=nn.ReLU):\n",
    "    return nn.Sequential(\n",
    "        nn.ConvTranspose2d(in_dim, out_dim, kernel_size, stride,\n",
    "                           padding, output_padding, bias=False),\n",
    "        norm(out_dim),\n",
    "        relu())\n",
    "    \n",
    "class ResiduleBlock(nn.Module):\n",
    "\n",
    "    def __init__(self, in_dim, out_dim):\n",
    "        super(ResiduleBlock, self).__init__()\n",
    "\n",
    "        conv_bn_relu = conv_norm_act\n",
    "\n",
    "        self.ls = nn.Sequential(nn.ReflectionPad2d(1),\n",
    "                                conv_bn_relu(in_dim, out_dim, 3, 1),\n",
    "                                nn.ReflectionPad2d(1),\n",
    "                                nn.Conv2d(out_dim, out_dim, 3, 1),\n",
    "                                nn.BatchNorm2d(out_dim))\n",
    "\n",
    "    def forward(self, x):\n",
    "        return x + self.ls(x)\n",
    "\n",
    "\n",
    "class Generator(nn.Module):\n",
    "\n",
    "    def __init__(self, dim=64):\n",
    "        super(Generator, self).__init__()\n",
    "\n",
    "        conv_bn_relu = conv_norm_act\n",
    "        dconv_bn_relu = dconv_norm_act\n",
    "\n",
    "        self.ls = nn.Sequential(nn.ReflectionPad2d(3),\n",
    "                                conv_bn_relu(3, dim * 1, 7, 1),\n",
    "                                conv_bn_relu(dim * 1, dim * 2, 3, 2, 1),\n",
    "                                conv_bn_relu(dim * 2, dim * 4, 3, 2, 1),\n",
    "                                ResiduleBlock(dim * 4, dim * 4),\n",
    "                                ResiduleBlock(dim * 4, dim * 4),\n",
    "                                ResiduleBlock(dim * 4, dim * 4),\n",
    "                                ResiduleBlock(dim * 4, dim * 4),\n",
    "                                ResiduleBlock(dim * 4, dim * 4),\n",
    "                                ResiduleBlock(dim * 4, dim * 4),\n",
    "                                ResiduleBlock(dim * 4, dim * 4),\n",
    "                                ResiduleBlock(dim * 4, dim * 4),\n",
    "                                ResiduleBlock(dim * 4, dim * 4),\n",
    "                                dconv_bn_relu(dim * 4, dim * 2, 3, 2, 1, 1),\n",
    "                                dconv_bn_relu(dim * 2, dim * 1, 3, 2, 1, 1),\n",
    "                                nn.ReflectionPad2d(3),\n",
    "                                nn.Conv2d(dim, 3, 7, 1),\n",
    "                                nn.Tanh())\n",
    "\n",
    "    def forward(self, x):\n",
    "        return self.ls(x)\n",
    "\n",
    "# class Generator(nn.Module):\n",
    "#     def __init__(self):\n",
    "#         super(Generator, self).__init__()\n",
    "#         self.model = nn.Sequential(\n",
    "#           nn.Linear(100,2848),\n",
    "#           nn.BatchNorm1d(2848),\n",
    "#           nn.LeakyReLU(0.2),\n",
    "#           nn.Linear(2848,2848),\n",
    "#           nn.BatchNorm1d(2848),\n",
    "#           nn.LeakyReLU(0.2),\n",
    "#           nn.Linear(2848,2848),\n",
    "#           nn.BatchNorm1d(2848),\n",
    "#           nn.LeakyReLU(0.2),\n",
    "#           nn.Linear(2848,2848),\n",
    "#           nn.BatchNorm1d(2848),\n",
    "#           nn.LeakyReLU(0.2),\n",
    "#           nn.Linear(2848,784),\n",
    "#           nn.Tanh()\n",
    "#         )\n",
    "\n",
    "        \n",
    "#     def forward(self, x):\n",
    "        \n",
    "#         x = self.model(x)\n",
    "#         x = x.view(x.size(0), 1, 28, 28)\n",
    "#         return x"
   ],
   "outputs": [],
   "metadata": {
    "id": "D4GrfzsYDAvR"
   }
  },
  {
   "cell_type": "code",
   "execution_count": null,
   "source": [
    "# norm_layer = nn.InstanceNorm2d\n",
    "# class ResBlock(nn.Module):\n",
    "#     def __init__(self, f):\n",
    "#         super(ResBlock, self).__init__()\n",
    "#         self.conv = nn.Sequential(nn.Conv2d(f, f, 3, 1, 1), norm_layer(f), nn.ReLU(),\n",
    "#                                   nn.Conv2d(f, f, 3, 1, 1))\n",
    "#         self.norm = norm_layer(f)\n",
    "#     def forward(self, x):\n",
    "#         return F.relu(self.norm(self.conv(x)+x))\n",
    "\n",
    "# class Generator(nn.Module):\n",
    "#     def __init__(self, f=64, blocks=9):\n",
    "#         super(Generator, self).__init__()\n",
    "#         layers = [nn.ReflectionPad2d(3),\n",
    "#                   nn.Conv2d(  3,   f, 7, 1, 0), norm_layer(  f), nn.ReLU(True),\n",
    "#                   nn.Conv2d(  f, 2*f, 3, 2, 1), norm_layer(2*f), nn.ReLU(True),\n",
    "#                   nn.Conv2d(2*f, 4*f, 3, 2, 1), norm_layer(4*f), nn.ReLU(True)]\n",
    "#         for i in range(int(blocks)):\n",
    "#             layers.append(ResBlock(4*f))\n",
    "#         layers.extend([\n",
    "#                 nn.ConvTranspose2d(4*f, 4*2*f, 3, 1, 1), nn.PixelShuffle(2), norm_layer(2*f), nn.ReLU(True),\n",
    "#                 nn.ConvTranspose2d(2*f,   4*f, 3, 1, 1), nn.PixelShuffle(2), norm_layer(  f), nn.ReLU(True),\n",
    "#                 nn.ReflectionPad2d(3), nn.Conv2d(f, 3, 7, 1, 0),\n",
    "#                 nn.Tanh()])\n",
    "#         self.conv = nn.Sequential(*layers)\n",
    "        \n",
    "#     def forward(self, x):\n",
    "#         return self.conv(x)"
   ],
   "outputs": [],
   "metadata": {
    "id": "_1iL1ClXgOjn"
   }
  },
  {
   "cell_type": "markdown",
   "source": [
    "# Discriminator"
   ],
   "metadata": {
    "id": "QShX15bkDCh2"
   }
  },
  {
   "cell_type": "code",
   "execution_count": 6,
   "source": [
    "class Discriminator(nn.Module):\n",
    "    def __init__(self):\n",
    "        super(Discriminator, self).__init__()\n",
    "        self.model = nn.Sequential(\n",
    "          nn.Conv2d(3, 64, 4, 2, 1, bias=False),\n",
    "          nn.Dropout(p=0.3),\n",
    "          nn.LeakyReLU(0.2),\n",
    "          nn.Conv2d(64, 128, 4, 2, 1, bias=False),\n",
    "          nn.Dropout(p=0.3),\n",
    "          nn.LeakyReLU(0.2),\n",
    "          nn.Conv2d(128, 256, 4, 2, 1, bias=False),\n",
    "          nn.Dropout(p=0.3),\n",
    "          nn.LeakyReLU(0.2),\n",
    "          nn.Conv2d(256, 512, 4, 1, 1, bias=False),\n",
    "          nn.Dropout(p=0.3),\n",
    "          nn.LeakyReLU(0.2),\n",
    "          nn.Conv2d(512, 4, 4, 1, 1, bias=False),\n",
    "          nn.Sigmoid(),\n",
    "        )\n",
    "    \n",
    "    def forward(self, x):\n",
    "        #x = x.view(x.size(0), -1)\n",
    "        x = self.model(x)\n",
    "        return x"
   ],
   "outputs": [],
   "metadata": {
    "id": "zZzBFUqEDEAe"
   }
  },
  {
   "cell_type": "markdown",
   "source": [
    "# Train loop"
   ],
   "metadata": {
    "id": "tqKdKwSyDE3D"
   }
  },
  {
   "cell_type": "code",
   "execution_count": 8,
   "source": [
    "#Initialize networks\n",
    "d_a = Discriminator().to(device)\n",
    "d_b = Discriminator().to(device)\n",
    "g_ab = Generator().to(device)\n",
    "g_ba = Generator().to(device)\n",
    "d_a_opt = torch.optim.Adam(d_a.parameters(), 0.0004, (0.5, 0.999))\n",
    "d_b_opt = torch.optim.Adam(d_b.parameters(), 0.0004, (0.5, 0.999))\n",
    "g_ab_opt = torch.optim.Adam(g_ab.parameters(), 0.0001, (0.5, 0.999))\n",
    "g_ba_opt = torch.optim.Adam(g_ba.parameters(), 0.0001, (0.5, 0.999))\n",
    "\n",
    "plt.figure(figsize=(20,10))\n",
    "subplots = [plt.subplot(2, 6, k+1) for k in range(12)]\n",
    "num_epochs = 10\n",
    "discriminator_final_layer = torch.sigmoid\n",
    "\n",
    "for epoch in range(num_epochs):\n",
    "    for minibatch_no, ((a, target_a), (b, target_b)) in enumerate(zip(dataloader_train_horse, dataloader_zebra_train)):\n",
    "        \n",
    "\n",
    "        # It is probably necessary to call zero_grad and detach for some of these models. I do not know which ones yet.\n",
    "        \n",
    "        d_a.zero_grad()\n",
    "        d_b.zero_grad()\n",
    "        g_ab.zero_grad()\n",
    "        g_ba.zero_grad()\n",
    "        #remember to detach x_fake before using it to compute the discriminator loss\n",
    "        #otherwise the discriminator loss will backpropagate through the generator as well, which is unnecessary.\n",
    "        #x_fake = x_fake.detach()\n",
    "        \n",
    "        \n",
    "        \n",
    "        # Get all images and predictions ready\n",
    "        # Get real a and b images ready\n",
    "        real_a = a.to(device)\n",
    "        real_b = b.to(device)\n",
    "\n",
    "        # Get real/fake prediction from discriminator\n",
    "        pred_a = d_a(real_a)\n",
    "        pred_b = d_b(real_b)\n",
    "\n",
    "        # Construct fake images\n",
    "        fake_a = g_ba(real_b)\n",
    "        fake_b = g_ab(real_a)\n",
    "\n",
    "        # Images for cycle consistency loss\n",
    "        cyclic_a = g_ba(fake_a)\n",
    "        cyclic_b = g_ab(fake_b)\n",
    "\n",
    "        # Use discriminator to predict on fake images\n",
    "        pred_a_fake = d_a(fake_a)\n",
    "        pred_b_fake = d_b(fake_b)\n",
    "\n",
    "\n",
    "        # Find losses for each model\n",
    "        # Discriminator loss\n",
    "        loss1 = nn.L1Loss()\n",
    "        fake_labels = torch.zeros(pred_a.size(0)).unsqueeze(1).float().to(device)\n",
    "        real_labels = torch.ones(pred_b.size(0)).unsqueeze(1).float().to(device)\n",
    "        d_a_loss = (loss1(pred_a, real_labels) + loss1(pred_a_fake, fake_labels))/2  # This line might have to have a structure like fake_labels and real_labels at the bottom of the page\n",
    "        d_b_loss = (loss1(pred_b, real_labels) + loss1(pred_b_fake, fake_labels))/2 # This line might have to have a structure like fake_labels and real_labels at the bottom of the page\n",
    "\n",
    "        # Generator loss\n",
    "        loss2 = nn.BCEWithLogitsLoss()\n",
    "        cyclic_loss = (real_a - cyclic_a) + (real_b + cyclic_b)\n",
    "        g_ba_loss = loss2(pred_a_fake, real_labels) + 10 * cyclic_loss\n",
    "        g_ab_loss = loss2(pred_b_fake, real_labels) + 10 * cyclic_loss\n",
    "\n",
    "        \n",
    "        # Update models\n",
    "        d_a_loss.backward(retain_graph=True)\n",
    "        d_a_opt.step()\n",
    "        \n",
    "        d_b_loss.backward(retain_graph=True)\n",
    "        d_b_opt.step()\n",
    "\n",
    "        g_ba_loss.backward(retain_graph=True)\n",
    "        g_ba_opt.step()\n",
    "\n",
    "        g_ab_loss.backward(retain_graph=True)\n",
    "        g_ab_opt.step()\n",
    "\n",
    "        assert(not np.isnan(d_loss.item()))\n",
    "        #Plot results every 100 minibatches\n",
    "        if minibatch_no % 100 == 0:\n",
    "            with torch.no_grad():\n",
    "                P = discriminator_final_layer(d(x_fake))\n",
    "                for k in range(11):\n",
    "                    x_fake_k = x_fake[k].cpu().squeeze()/2+.5\n",
    "                    subplots[k].imshow(x_fake_k, cmap='gray')\n",
    "                    subplots[k].set_title('d(x)=%.2f' % P[k])\n",
    "                    subplots[k].axis('off')\n",
    "                z = torch.randn(batch_size, 100).to(device)\n",
    "                H1 = discriminator_final_layer(d(g(z))).cpu()\n",
    "                H2 = discriminator_final_layer(d(x_real)).cpu()\n",
    "                plot_min = min(H1.min(), H2.min()).item()\n",
    "                plot_max = max(H1.max(), H2.max()).item()\n",
    "                subplots[-1].cla()\n",
    "                subplots[-1].hist(H1.squeeze(), label='fake', range=(plot_min, plot_max), alpha=0.5)\n",
    "                subplots[-1].hist(H2.squeeze(), label='real', range=(plot_min, plot_max), alpha=0.5)\n",
    "                subplots[-1].legend()\n",
    "                subplots[-1].set_xlabel('Probability of being real')\n",
    "                subplots[-1].set_title('Discriminator loss: %.2f' % d_loss.item())\n",
    "                \n",
    "                title = 'Epoch {e} - minibatch {n}/{d}'.format(e=epoch+1, n=minibatch_no, d=len(train_loader))\n",
    "                plt.gcf().suptitle(title, fontsize=20)\n",
    "                display.display(plt.gcf())\n",
    "                display.clear_output(wait=True)\n",
    "                \n",
    "\n",
    "#         fake_labels = torch.zeros(d_fake.size(0)).unsqueeze(1).float().to(device)\n",
    "#         real_labels = torch.ones(d_real.size(0)).unsqueeze(1).float().to(device)"
   ],
   "outputs": [
    {
     "output_type": "error",
     "ename": "RuntimeError",
     "evalue": "ignored",
     "traceback": [
      "\u001b[0;31m---------------------------------------------------------------------------\u001b[0m",
      "\u001b[0;31mRuntimeError\u001b[0m                              Traceback (most recent call last)",
      "\u001b[0;32m<ipython-input-8-effcb78726d6>\u001b[0m in \u001b[0;36m<module>\u001b[0;34m()\u001b[0m\n\u001b[1;32m     40\u001b[0m \u001b[0;34m\u001b[0m\u001b[0m\n\u001b[1;32m     41\u001b[0m         \u001b[0;31m# Construct fake images\u001b[0m\u001b[0;34m\u001b[0m\u001b[0;34m\u001b[0m\u001b[0;34m\u001b[0m\u001b[0m\n\u001b[0;32m---> 42\u001b[0;31m         \u001b[0mfake_a\u001b[0m \u001b[0;34m=\u001b[0m \u001b[0mg_ba\u001b[0m\u001b[0;34m(\u001b[0m\u001b[0mreal_b\u001b[0m\u001b[0;34m)\u001b[0m\u001b[0;34m\u001b[0m\u001b[0;34m\u001b[0m\u001b[0m\n\u001b[0m\u001b[1;32m     43\u001b[0m         \u001b[0mfake_b\u001b[0m \u001b[0;34m=\u001b[0m \u001b[0mg_ab\u001b[0m\u001b[0;34m(\u001b[0m\u001b[0mreal_a\u001b[0m\u001b[0;34m)\u001b[0m\u001b[0;34m\u001b[0m\u001b[0;34m\u001b[0m\u001b[0m\n\u001b[1;32m     44\u001b[0m \u001b[0;34m\u001b[0m\u001b[0m\n",
      "\u001b[0;32m/usr/local/lib/python3.7/dist-packages/torch/nn/modules/module.py\u001b[0m in \u001b[0;36m_call_impl\u001b[0;34m(self, *input, **kwargs)\u001b[0m\n\u001b[1;32m   1049\u001b[0m         if not (self._backward_hooks or self._forward_hooks or self._forward_pre_hooks or _global_backward_hooks\n\u001b[1;32m   1050\u001b[0m                 or _global_forward_hooks or _global_forward_pre_hooks):\n\u001b[0;32m-> 1051\u001b[0;31m             \u001b[0;32mreturn\u001b[0m \u001b[0mforward_call\u001b[0m\u001b[0;34m(\u001b[0m\u001b[0;34m*\u001b[0m\u001b[0minput\u001b[0m\u001b[0;34m,\u001b[0m \u001b[0;34m**\u001b[0m\u001b[0mkwargs\u001b[0m\u001b[0;34m)\u001b[0m\u001b[0;34m\u001b[0m\u001b[0;34m\u001b[0m\u001b[0m\n\u001b[0m\u001b[1;32m   1052\u001b[0m         \u001b[0;31m# Do not call functions when jit is used\u001b[0m\u001b[0;34m\u001b[0m\u001b[0;34m\u001b[0m\u001b[0;34m\u001b[0m\u001b[0m\n\u001b[1;32m   1053\u001b[0m         \u001b[0mfull_backward_hooks\u001b[0m\u001b[0;34m,\u001b[0m \u001b[0mnon_full_backward_hooks\u001b[0m \u001b[0;34m=\u001b[0m \u001b[0;34m[\u001b[0m\u001b[0;34m]\u001b[0m\u001b[0;34m,\u001b[0m \u001b[0;34m[\u001b[0m\u001b[0;34m]\u001b[0m\u001b[0;34m\u001b[0m\u001b[0;34m\u001b[0m\u001b[0m\n",
      "\u001b[0;32m<ipython-input-5-c11640505814>\u001b[0m in \u001b[0;36mforward\u001b[0;34m(self, x)\u001b[0m\n\u001b[1;32m     60\u001b[0m \u001b[0;34m\u001b[0m\u001b[0m\n\u001b[1;32m     61\u001b[0m     \u001b[0;32mdef\u001b[0m \u001b[0mforward\u001b[0m\u001b[0;34m(\u001b[0m\u001b[0mself\u001b[0m\u001b[0;34m,\u001b[0m \u001b[0mx\u001b[0m\u001b[0;34m)\u001b[0m\u001b[0;34m:\u001b[0m\u001b[0;34m\u001b[0m\u001b[0;34m\u001b[0m\u001b[0m\n\u001b[0;32m---> 62\u001b[0;31m         \u001b[0;32mreturn\u001b[0m \u001b[0mself\u001b[0m\u001b[0;34m.\u001b[0m\u001b[0mls\u001b[0m\u001b[0;34m(\u001b[0m\u001b[0mx\u001b[0m\u001b[0;34m)\u001b[0m\u001b[0;34m\u001b[0m\u001b[0;34m\u001b[0m\u001b[0m\n\u001b[0m\u001b[1;32m     63\u001b[0m \u001b[0;34m\u001b[0m\u001b[0m\n\u001b[1;32m     64\u001b[0m \u001b[0;31m# class Generator(nn.Module):\u001b[0m\u001b[0;34m\u001b[0m\u001b[0;34m\u001b[0m\u001b[0;34m\u001b[0m\u001b[0m\n",
      "\u001b[0;32m/usr/local/lib/python3.7/dist-packages/torch/nn/modules/module.py\u001b[0m in \u001b[0;36m_call_impl\u001b[0;34m(self, *input, **kwargs)\u001b[0m\n\u001b[1;32m   1049\u001b[0m         if not (self._backward_hooks or self._forward_hooks or self._forward_pre_hooks or _global_backward_hooks\n\u001b[1;32m   1050\u001b[0m                 or _global_forward_hooks or _global_forward_pre_hooks):\n\u001b[0;32m-> 1051\u001b[0;31m             \u001b[0;32mreturn\u001b[0m \u001b[0mforward_call\u001b[0m\u001b[0;34m(\u001b[0m\u001b[0;34m*\u001b[0m\u001b[0minput\u001b[0m\u001b[0;34m,\u001b[0m \u001b[0;34m**\u001b[0m\u001b[0mkwargs\u001b[0m\u001b[0;34m)\u001b[0m\u001b[0;34m\u001b[0m\u001b[0;34m\u001b[0m\u001b[0m\n\u001b[0m\u001b[1;32m   1052\u001b[0m         \u001b[0;31m# Do not call functions when jit is used\u001b[0m\u001b[0;34m\u001b[0m\u001b[0;34m\u001b[0m\u001b[0;34m\u001b[0m\u001b[0m\n\u001b[1;32m   1053\u001b[0m         \u001b[0mfull_backward_hooks\u001b[0m\u001b[0;34m,\u001b[0m \u001b[0mnon_full_backward_hooks\u001b[0m \u001b[0;34m=\u001b[0m \u001b[0;34m[\u001b[0m\u001b[0;34m]\u001b[0m\u001b[0;34m,\u001b[0m \u001b[0;34m[\u001b[0m\u001b[0;34m]\u001b[0m\u001b[0;34m\u001b[0m\u001b[0;34m\u001b[0m\u001b[0m\n",
      "\u001b[0;32m/usr/local/lib/python3.7/dist-packages/torch/nn/modules/container.py\u001b[0m in \u001b[0;36mforward\u001b[0;34m(self, input)\u001b[0m\n\u001b[1;32m    137\u001b[0m     \u001b[0;32mdef\u001b[0m \u001b[0mforward\u001b[0m\u001b[0;34m(\u001b[0m\u001b[0mself\u001b[0m\u001b[0;34m,\u001b[0m \u001b[0minput\u001b[0m\u001b[0;34m)\u001b[0m\u001b[0;34m:\u001b[0m\u001b[0;34m\u001b[0m\u001b[0;34m\u001b[0m\u001b[0m\n\u001b[1;32m    138\u001b[0m         \u001b[0;32mfor\u001b[0m \u001b[0mmodule\u001b[0m \u001b[0;32min\u001b[0m \u001b[0mself\u001b[0m\u001b[0;34m:\u001b[0m\u001b[0;34m\u001b[0m\u001b[0;34m\u001b[0m\u001b[0m\n\u001b[0;32m--> 139\u001b[0;31m             \u001b[0minput\u001b[0m \u001b[0;34m=\u001b[0m \u001b[0mmodule\u001b[0m\u001b[0;34m(\u001b[0m\u001b[0minput\u001b[0m\u001b[0;34m)\u001b[0m\u001b[0;34m\u001b[0m\u001b[0;34m\u001b[0m\u001b[0m\n\u001b[0m\u001b[1;32m    140\u001b[0m         \u001b[0;32mreturn\u001b[0m \u001b[0minput\u001b[0m\u001b[0;34m\u001b[0m\u001b[0;34m\u001b[0m\u001b[0m\n\u001b[1;32m    141\u001b[0m \u001b[0;34m\u001b[0m\u001b[0m\n",
      "\u001b[0;32m/usr/local/lib/python3.7/dist-packages/torch/nn/modules/module.py\u001b[0m in \u001b[0;36m_call_impl\u001b[0;34m(self, *input, **kwargs)\u001b[0m\n\u001b[1;32m   1049\u001b[0m         if not (self._backward_hooks or self._forward_hooks or self._forward_pre_hooks or _global_backward_hooks\n\u001b[1;32m   1050\u001b[0m                 or _global_forward_hooks or _global_forward_pre_hooks):\n\u001b[0;32m-> 1051\u001b[0;31m             \u001b[0;32mreturn\u001b[0m \u001b[0mforward_call\u001b[0m\u001b[0;34m(\u001b[0m\u001b[0;34m*\u001b[0m\u001b[0minput\u001b[0m\u001b[0;34m,\u001b[0m \u001b[0;34m**\u001b[0m\u001b[0mkwargs\u001b[0m\u001b[0;34m)\u001b[0m\u001b[0;34m\u001b[0m\u001b[0;34m\u001b[0m\u001b[0m\n\u001b[0m\u001b[1;32m   1052\u001b[0m         \u001b[0;31m# Do not call functions when jit is used\u001b[0m\u001b[0;34m\u001b[0m\u001b[0;34m\u001b[0m\u001b[0;34m\u001b[0m\u001b[0m\n\u001b[1;32m   1053\u001b[0m         \u001b[0mfull_backward_hooks\u001b[0m\u001b[0;34m,\u001b[0m \u001b[0mnon_full_backward_hooks\u001b[0m \u001b[0;34m=\u001b[0m \u001b[0;34m[\u001b[0m\u001b[0;34m]\u001b[0m\u001b[0;34m,\u001b[0m \u001b[0;34m[\u001b[0m\u001b[0;34m]\u001b[0m\u001b[0;34m\u001b[0m\u001b[0;34m\u001b[0m\u001b[0m\n",
      "\u001b[0;32m<ipython-input-5-c11640505814>\u001b[0m in \u001b[0;36mforward\u001b[0;34m(self, x)\u001b[0m\n\u001b[1;32m     29\u001b[0m \u001b[0;34m\u001b[0m\u001b[0m\n\u001b[1;32m     30\u001b[0m     \u001b[0;32mdef\u001b[0m \u001b[0mforward\u001b[0m\u001b[0;34m(\u001b[0m\u001b[0mself\u001b[0m\u001b[0;34m,\u001b[0m \u001b[0mx\u001b[0m\u001b[0;34m)\u001b[0m\u001b[0;34m:\u001b[0m\u001b[0;34m\u001b[0m\u001b[0;34m\u001b[0m\u001b[0m\n\u001b[0;32m---> 31\u001b[0;31m         \u001b[0;32mreturn\u001b[0m \u001b[0mx\u001b[0m \u001b[0;34m+\u001b[0m \u001b[0mself\u001b[0m\u001b[0;34m.\u001b[0m\u001b[0mls\u001b[0m\u001b[0;34m(\u001b[0m\u001b[0mx\u001b[0m\u001b[0;34m)\u001b[0m\u001b[0;34m\u001b[0m\u001b[0;34m\u001b[0m\u001b[0m\n\u001b[0m\u001b[1;32m     32\u001b[0m \u001b[0;34m\u001b[0m\u001b[0m\n\u001b[1;32m     33\u001b[0m \u001b[0;34m\u001b[0m\u001b[0m\n",
      "\u001b[0;32m/usr/local/lib/python3.7/dist-packages/torch/nn/modules/module.py\u001b[0m in \u001b[0;36m_call_impl\u001b[0;34m(self, *input, **kwargs)\u001b[0m\n\u001b[1;32m   1049\u001b[0m         if not (self._backward_hooks or self._forward_hooks or self._forward_pre_hooks or _global_backward_hooks\n\u001b[1;32m   1050\u001b[0m                 or _global_forward_hooks or _global_forward_pre_hooks):\n\u001b[0;32m-> 1051\u001b[0;31m             \u001b[0;32mreturn\u001b[0m \u001b[0mforward_call\u001b[0m\u001b[0;34m(\u001b[0m\u001b[0;34m*\u001b[0m\u001b[0minput\u001b[0m\u001b[0;34m,\u001b[0m \u001b[0;34m**\u001b[0m\u001b[0mkwargs\u001b[0m\u001b[0;34m)\u001b[0m\u001b[0;34m\u001b[0m\u001b[0;34m\u001b[0m\u001b[0m\n\u001b[0m\u001b[1;32m   1052\u001b[0m         \u001b[0;31m# Do not call functions when jit is used\u001b[0m\u001b[0;34m\u001b[0m\u001b[0;34m\u001b[0m\u001b[0;34m\u001b[0m\u001b[0m\n\u001b[1;32m   1053\u001b[0m         \u001b[0mfull_backward_hooks\u001b[0m\u001b[0;34m,\u001b[0m \u001b[0mnon_full_backward_hooks\u001b[0m \u001b[0;34m=\u001b[0m \u001b[0;34m[\u001b[0m\u001b[0;34m]\u001b[0m\u001b[0;34m,\u001b[0m \u001b[0;34m[\u001b[0m\u001b[0;34m]\u001b[0m\u001b[0;34m\u001b[0m\u001b[0;34m\u001b[0m\u001b[0m\n",
      "\u001b[0;32m/usr/local/lib/python3.7/dist-packages/torch/nn/modules/container.py\u001b[0m in \u001b[0;36mforward\u001b[0;34m(self, input)\u001b[0m\n\u001b[1;32m    137\u001b[0m     \u001b[0;32mdef\u001b[0m \u001b[0mforward\u001b[0m\u001b[0;34m(\u001b[0m\u001b[0mself\u001b[0m\u001b[0;34m,\u001b[0m \u001b[0minput\u001b[0m\u001b[0;34m)\u001b[0m\u001b[0;34m:\u001b[0m\u001b[0;34m\u001b[0m\u001b[0;34m\u001b[0m\u001b[0m\n\u001b[1;32m    138\u001b[0m         \u001b[0;32mfor\u001b[0m \u001b[0mmodule\u001b[0m \u001b[0;32min\u001b[0m \u001b[0mself\u001b[0m\u001b[0;34m:\u001b[0m\u001b[0;34m\u001b[0m\u001b[0;34m\u001b[0m\u001b[0m\n\u001b[0;32m--> 139\u001b[0;31m             \u001b[0minput\u001b[0m \u001b[0;34m=\u001b[0m \u001b[0mmodule\u001b[0m\u001b[0;34m(\u001b[0m\u001b[0minput\u001b[0m\u001b[0;34m)\u001b[0m\u001b[0;34m\u001b[0m\u001b[0;34m\u001b[0m\u001b[0m\n\u001b[0m\u001b[1;32m    140\u001b[0m         \u001b[0;32mreturn\u001b[0m \u001b[0minput\u001b[0m\u001b[0;34m\u001b[0m\u001b[0;34m\u001b[0m\u001b[0m\n\u001b[1;32m    141\u001b[0m \u001b[0;34m\u001b[0m\u001b[0m\n",
      "\u001b[0;32m/usr/local/lib/python3.7/dist-packages/torch/nn/modules/module.py\u001b[0m in \u001b[0;36m_call_impl\u001b[0;34m(self, *input, **kwargs)\u001b[0m\n\u001b[1;32m   1049\u001b[0m         if not (self._backward_hooks or self._forward_hooks or self._forward_pre_hooks or _global_backward_hooks\n\u001b[1;32m   1050\u001b[0m                 or _global_forward_hooks or _global_forward_pre_hooks):\n\u001b[0;32m-> 1051\u001b[0;31m             \u001b[0;32mreturn\u001b[0m \u001b[0mforward_call\u001b[0m\u001b[0;34m(\u001b[0m\u001b[0;34m*\u001b[0m\u001b[0minput\u001b[0m\u001b[0;34m,\u001b[0m \u001b[0;34m**\u001b[0m\u001b[0mkwargs\u001b[0m\u001b[0;34m)\u001b[0m\u001b[0;34m\u001b[0m\u001b[0;34m\u001b[0m\u001b[0m\n\u001b[0m\u001b[1;32m   1052\u001b[0m         \u001b[0;31m# Do not call functions when jit is used\u001b[0m\u001b[0;34m\u001b[0m\u001b[0;34m\u001b[0m\u001b[0;34m\u001b[0m\u001b[0m\n\u001b[1;32m   1053\u001b[0m         \u001b[0mfull_backward_hooks\u001b[0m\u001b[0;34m,\u001b[0m \u001b[0mnon_full_backward_hooks\u001b[0m \u001b[0;34m=\u001b[0m \u001b[0;34m[\u001b[0m\u001b[0;34m]\u001b[0m\u001b[0;34m,\u001b[0m \u001b[0;34m[\u001b[0m\u001b[0;34m]\u001b[0m\u001b[0;34m\u001b[0m\u001b[0;34m\u001b[0m\u001b[0m\n",
      "\u001b[0;32m/usr/local/lib/python3.7/dist-packages/torch/nn/modules/container.py\u001b[0m in \u001b[0;36mforward\u001b[0;34m(self, input)\u001b[0m\n\u001b[1;32m    137\u001b[0m     \u001b[0;32mdef\u001b[0m \u001b[0mforward\u001b[0m\u001b[0;34m(\u001b[0m\u001b[0mself\u001b[0m\u001b[0;34m,\u001b[0m \u001b[0minput\u001b[0m\u001b[0;34m)\u001b[0m\u001b[0;34m:\u001b[0m\u001b[0;34m\u001b[0m\u001b[0;34m\u001b[0m\u001b[0m\n\u001b[1;32m    138\u001b[0m         \u001b[0;32mfor\u001b[0m \u001b[0mmodule\u001b[0m \u001b[0;32min\u001b[0m \u001b[0mself\u001b[0m\u001b[0;34m:\u001b[0m\u001b[0;34m\u001b[0m\u001b[0;34m\u001b[0m\u001b[0m\n\u001b[0;32m--> 139\u001b[0;31m             \u001b[0minput\u001b[0m \u001b[0;34m=\u001b[0m \u001b[0mmodule\u001b[0m\u001b[0;34m(\u001b[0m\u001b[0minput\u001b[0m\u001b[0;34m)\u001b[0m\u001b[0;34m\u001b[0m\u001b[0;34m\u001b[0m\u001b[0m\n\u001b[0m\u001b[1;32m    140\u001b[0m         \u001b[0;32mreturn\u001b[0m \u001b[0minput\u001b[0m\u001b[0;34m\u001b[0m\u001b[0;34m\u001b[0m\u001b[0m\n\u001b[1;32m    141\u001b[0m \u001b[0;34m\u001b[0m\u001b[0m\n",
      "\u001b[0;32m/usr/local/lib/python3.7/dist-packages/torch/nn/modules/module.py\u001b[0m in \u001b[0;36m_call_impl\u001b[0;34m(self, *input, **kwargs)\u001b[0m\n\u001b[1;32m   1049\u001b[0m         if not (self._backward_hooks or self._forward_hooks or self._forward_pre_hooks or _global_backward_hooks\n\u001b[1;32m   1050\u001b[0m                 or _global_forward_hooks or _global_forward_pre_hooks):\n\u001b[0;32m-> 1051\u001b[0;31m             \u001b[0;32mreturn\u001b[0m \u001b[0mforward_call\u001b[0m\u001b[0;34m(\u001b[0m\u001b[0;34m*\u001b[0m\u001b[0minput\u001b[0m\u001b[0;34m,\u001b[0m \u001b[0;34m**\u001b[0m\u001b[0mkwargs\u001b[0m\u001b[0;34m)\u001b[0m\u001b[0;34m\u001b[0m\u001b[0;34m\u001b[0m\u001b[0m\n\u001b[0m\u001b[1;32m   1052\u001b[0m         \u001b[0;31m# Do not call functions when jit is used\u001b[0m\u001b[0;34m\u001b[0m\u001b[0;34m\u001b[0m\u001b[0;34m\u001b[0m\u001b[0m\n\u001b[1;32m   1053\u001b[0m         \u001b[0mfull_backward_hooks\u001b[0m\u001b[0;34m,\u001b[0m \u001b[0mnon_full_backward_hooks\u001b[0m \u001b[0;34m=\u001b[0m \u001b[0;34m[\u001b[0m\u001b[0;34m]\u001b[0m\u001b[0;34m,\u001b[0m \u001b[0;34m[\u001b[0m\u001b[0;34m]\u001b[0m\u001b[0;34m\u001b[0m\u001b[0;34m\u001b[0m\u001b[0m\n",
      "\u001b[0;32m/usr/local/lib/python3.7/dist-packages/torch/nn/modules/activation.py\u001b[0m in \u001b[0;36mforward\u001b[0;34m(self, input)\u001b[0m\n\u001b[1;32m    100\u001b[0m \u001b[0;34m\u001b[0m\u001b[0m\n\u001b[1;32m    101\u001b[0m     \u001b[0;32mdef\u001b[0m \u001b[0mforward\u001b[0m\u001b[0;34m(\u001b[0m\u001b[0mself\u001b[0m\u001b[0;34m,\u001b[0m \u001b[0minput\u001b[0m\u001b[0;34m:\u001b[0m \u001b[0mTensor\u001b[0m\u001b[0;34m)\u001b[0m \u001b[0;34m->\u001b[0m \u001b[0mTensor\u001b[0m\u001b[0;34m:\u001b[0m\u001b[0;34m\u001b[0m\u001b[0;34m\u001b[0m\u001b[0m\n\u001b[0;32m--> 102\u001b[0;31m         \u001b[0;32mreturn\u001b[0m \u001b[0mF\u001b[0m\u001b[0;34m.\u001b[0m\u001b[0mrelu\u001b[0m\u001b[0;34m(\u001b[0m\u001b[0minput\u001b[0m\u001b[0;34m,\u001b[0m \u001b[0minplace\u001b[0m\u001b[0;34m=\u001b[0m\u001b[0mself\u001b[0m\u001b[0;34m.\u001b[0m\u001b[0minplace\u001b[0m\u001b[0;34m)\u001b[0m\u001b[0;34m\u001b[0m\u001b[0;34m\u001b[0m\u001b[0m\n\u001b[0m\u001b[1;32m    103\u001b[0m \u001b[0;34m\u001b[0m\u001b[0m\n\u001b[1;32m    104\u001b[0m     \u001b[0;32mdef\u001b[0m \u001b[0mextra_repr\u001b[0m\u001b[0;34m(\u001b[0m\u001b[0mself\u001b[0m\u001b[0;34m)\u001b[0m \u001b[0;34m->\u001b[0m \u001b[0mstr\u001b[0m\u001b[0;34m:\u001b[0m\u001b[0;34m\u001b[0m\u001b[0;34m\u001b[0m\u001b[0m\n",
      "\u001b[0;32m/usr/local/lib/python3.7/dist-packages/torch/nn/functional.py\u001b[0m in \u001b[0;36mrelu\u001b[0;34m(input, inplace)\u001b[0m\n\u001b[1;32m   1296\u001b[0m         \u001b[0mresult\u001b[0m \u001b[0;34m=\u001b[0m \u001b[0mtorch\u001b[0m\u001b[0;34m.\u001b[0m\u001b[0mrelu_\u001b[0m\u001b[0;34m(\u001b[0m\u001b[0minput\u001b[0m\u001b[0;34m)\u001b[0m\u001b[0;34m\u001b[0m\u001b[0;34m\u001b[0m\u001b[0m\n\u001b[1;32m   1297\u001b[0m     \u001b[0;32melse\u001b[0m\u001b[0;34m:\u001b[0m\u001b[0;34m\u001b[0m\u001b[0;34m\u001b[0m\u001b[0m\n\u001b[0;32m-> 1298\u001b[0;31m         \u001b[0mresult\u001b[0m \u001b[0;34m=\u001b[0m \u001b[0mtorch\u001b[0m\u001b[0;34m.\u001b[0m\u001b[0mrelu\u001b[0m\u001b[0;34m(\u001b[0m\u001b[0minput\u001b[0m\u001b[0;34m)\u001b[0m\u001b[0;34m\u001b[0m\u001b[0;34m\u001b[0m\u001b[0m\n\u001b[0m\u001b[1;32m   1299\u001b[0m     \u001b[0;32mreturn\u001b[0m \u001b[0mresult\u001b[0m\u001b[0;34m\u001b[0m\u001b[0;34m\u001b[0m\u001b[0m\n\u001b[1;32m   1300\u001b[0m \u001b[0;34m\u001b[0m\u001b[0m\n",
      "\u001b[0;31mRuntimeError\u001b[0m: CUDA out of memory. Tried to allocate 20.00 MiB (GPU 0; 11.17 GiB total capacity; 10.65 GiB already allocated; 17.81 MiB free; 10.71 GiB reserved in total by PyTorch)"
     ]
    },
    {
     "output_type": "display_data",
     "data": {
      "image/png": "[encoded data removed]",
      "text/plain": [
       "<Figure size 1440x720 with 12 Axes>"
      ]
     },
     "metadata": {
      "needs_background": "light"
     }
    }
   ],
   "metadata": {
    "colab": {
     "base_uri": "https://localhost:8080/",
     "height": 825
    },
    "id": "0W4od32oDJ6E",
    "outputId": "2d6c8cf4-6eea-466a-8ed5-2e68b9d54c2b"
   }
  },
  {
   "cell_type": "code",
   "execution_count": null,
   "source": [
    "############################################################################################\n",
    "#### CODE BEFORE IMPLEMENTING https://hardikbansal.github.io/CycleGANBlog/ ARCHITECTURE ####\n",
    "############################################################################################\n",
    "\n",
    "# #Initialize networks\n",
    "# d_a = Discriminator().to(device)\n",
    "# d_b = Discriminator().to(device)\n",
    "# g_ab = Generator().to(device)\n",
    "# g_ba = Generator().to(device)\n",
    "# d_opt = torch.optim.Adam(d.parameters(), 0.0004, (0.5, 0.999))\n",
    "# g_opt = torch.optim.Adam(g.parameters(), 0.0001, (0.5, 0.999))\n",
    "\n",
    "# plt.figure(figsize=(20,10))\n",
    "# subplots = [plt.subplot(2, 6, k+1) for k in range(12)]\n",
    "# num_epochs = 10\n",
    "# discriminator_final_layer = torch.sigmoid\n",
    "\n",
    "# for epoch in range(num_epochs):\n",
    "#     for minibatch_no, (x, target) in enumerate(train_loader):\n",
    "#         x_real = x.to(device)*2-1 #scale to (-1, 1) range\n",
    "#         z = torch.randn(x.shape[0], 100).to(device)\n",
    "#         x_fake = g_ab(z)\n",
    "\n",
    "#         #Update discriminator A\n",
    "#         d.zero_grad()\n",
    "#         #remember to detach x_fake before using it to compute the discriminator loss\n",
    "#         #otherwise the discriminator loss will backpropagate through the generator as well, which is unnecessary.\n",
    "#         #x_fake = x_fake.detach()\n",
    "#         loss1 = nn.L1Loss()\n",
    "#         d_fake = d(x_fake)\n",
    "#         d_real = d(x_real)\n",
    "#         fake_labels = torch.zeros(d_fake.size(0)).unsqueeze(1).float().to(device)\n",
    "#         real_labels = torch.ones(d_real.size(0)).unsqueeze(1).float().to(device)\n",
    "#         d_loss = loss1(d_fake, fake_labels) + loss1(d_real, real_labels)\n",
    "#         d_loss.backward(retain_graph=True)\n",
    "#         d_opt.step()\n",
    "\n",
    "#         #Update discriminator B\n",
    "#         #### FORMULA ####\n",
    "#         #model.zero_grad()\n",
    "#         #loss_function = loss_function()\n",
    "#         #model_loss = loss_function(value, target)\n",
    "#         #model_loss.backward(retain_graph = True)\n",
    "#         #model_opt.step()\n",
    "\n",
    "#         #Update generator A\n",
    "#         g.zero_grad()\n",
    "#         #loss = nn.L1Loss()\n",
    "#         loss2 = nn.BCEWithLogitsLoss()\n",
    "#         g_loss = loss2(d(x_fake), real_labels)\n",
    "#         g_loss.backward(retain_graph=True)\n",
    "#         g_opt.step()\n",
    "        \n",
    "\n",
    "#         #Update generator B\n",
    "#         #### FORMULA ####\n",
    "#         #model.zero_grad()\n",
    "#         #loss_function = loss_function()\n",
    "#         #model_loss = loss_function(value, target)\n",
    "#         #model_loss.backward(retain_graph = True)\n",
    "#         #model_opt.step()\n",
    "\n",
    "#         assert(not np.isnan(d_loss.item()))\n",
    "#         #Plot results every 100 minibatches\n",
    "#         if minibatch_no % 100 == 0:\n",
    "#             with torch.no_grad():\n",
    "#                 P = discriminator_final_layer(d(x_fake))\n",
    "#                 for k in range(11):\n",
    "#                     x_fake_k = x_fake[k].cpu().squeeze()/2+.5\n",
    "#                     subplots[k].imshow(x_fake_k, cmap='gray')\n",
    "#                     subplots[k].set_title('d(x)=%.2f' % P[k])\n",
    "#                     subplots[k].axis('off')\n",
    "#                 z = torch.randn(batch_size, 100).to(device)\n",
    "#                 H1 = discriminator_final_layer(d(g(z))).cpu()\n",
    "#                 H2 = discriminator_final_layer(d(x_real)).cpu()\n",
    "#                 plot_min = min(H1.min(), H2.min()).item()\n",
    "#                 plot_max = max(H1.max(), H2.max()).item()\n",
    "#                 subplots[-1].cla()\n",
    "#                 subplots[-1].hist(H1.squeeze(), label='fake', range=(plot_min, plot_max), alpha=0.5)\n",
    "#                 subplots[-1].hist(H2.squeeze(), label='real', range=(plot_min, plot_max), alpha=0.5)\n",
    "#                 subplots[-1].legend()\n",
    "#                 subplots[-1].set_xlabel('Probability of being real')\n",
    "#                 subplots[-1].set_title('Discriminator loss: %.2f' % d_loss.item())\n",
    "                \n",
    "#                 title = 'Epoch {e} - minibatch {n}/{d}'.format(e=epoch+1, n=minibatch_no, d=len(train_loader))\n",
    "#                 plt.gcf().suptitle(title, fontsize=20)\n",
    "#                 display.display(plt.gcf())\n",
    "#                 display.clear_output(wait=True)\n",
    "                "
   ],
   "outputs": [],
   "metadata": {
    "id": "g4ulQjBpelEj"
   }
  }
 ],
 "metadata": {
  "accelerator": "GPU",
  "colab": {
   "collapsed_sections": [],
   "name": "Untitled3.ipynb",
   "provenance": []
  },
  "kernelspec": {
   "display_name": "Python 3",
   "language": "python",
   "name": "python3"
  },
  "language_info": {
   "codemirror_mode": {
    "name": "ipython",
    "version": 3
   },
   "file_extension": ".py",
   "mimetype": "text/x-python",
   "name": "python",
   "nbconvert_exporter": "python",
   "pygments_lexer": "ipython3",
   "version": "3.8.5"
  }
 },
 "nbformat": 4,
 "nbformat_minor": 1
}