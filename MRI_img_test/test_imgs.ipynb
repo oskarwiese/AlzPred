{
 "cells": [
  {
   "cell_type": "code",
   "execution_count": 1,
   "id": "da4e5984-836c-4607-9a1d-00430fbd82e7",
   "metadata": {},
   "outputs": [],
   "source": [
    "import numpy as np\n",
    "import nipy\n",
    "from nipy import load_image\n",
    "from nipy.core.api import Image, vox2mni\n",
    "from nipy.testing import anatfile"
   ]
  },
  {
   "cell_type": "code",
   "execution_count": 2,
   "id": "4e5a8e5c-e97b-47e2-959b-be49d3f52c25",
   "metadata": {},
   "outputs": [],
   "source": [
    "file = \"/home/oskar/Skrivebord/002_S_0413_3T/002_S_0413/ADNI_002_S_0413_MR_MPR____N3__Scaled_Br_20070216232854688_S14782_I40657.nii\""
   ]
  },
  {
   "cell_type": "code",
   "execution_count": 3,
   "id": "9b8a9215-1c69-4378-8771-5709043b1838",
   "metadata": {},
   "outputs": [],
   "source": [
    "#ls ~/Skrivebord/002_S_0413_3T/002_S_0413/ADNI_002_S_0413_MR_MPR____N3__Scaled_Br_20070216232854688_S14782_I40657.nii"
   ]
  },
  {
   "cell_type": "code",
   "execution_count": 4,
   "id": "d4c2113e-51a6-4a0d-a580-3aa2295d285d",
   "metadata": {},
   "outputs": [],
   "source": [
    "img = load_image(file)"
   ]
  },
  {
   "cell_type": "code",
   "execution_count": null,
   "id": "d7e0da3d-04f2-47f4-bf91-409fccd0fd96",
   "metadata": {},
   "outputs": [],
   "source": []
  },
  {
   "cell_type": "code",
   "execution_count": 6,
   "id": "d54965f6-b0dd-4971-acb7-42b7a56253d0",
   "metadata": {},
   "outputs": [
    {
     "data": {
      "text/plain": [
       "(256, 256, 170)"
      ]
     },
     "execution_count": 6,
     "metadata": {},
     "output_type": "execute_result"
    }
   ],
   "source": [
    "img.shape"
   ]
  },
  {
   "cell_type": "code",
   "execution_count": 7,
   "id": "8ec1035b-0397-4551-8a15-5d2641537096",
   "metadata": {},
   "outputs": [],
   "source": [
    "img_arr = img.get_data()"
   ]
  },
  {
   "cell_type": "code",
   "execution_count": 8,
   "id": "5c000bd1-7db4-4b45-9fa2-6f52c9323d50",
   "metadata": {},
   "outputs": [
    {
     "data": {
      "text/plain": [
       "(43, 128, 128)"
      ]
     },
     "execution_count": 8,
     "metadata": {},
     "output_type": "execute_result"
    }
   ],
   "source": [
    "rawarray = np.zeros((43,128,128))\n",
    "img_arr = Image(rawarray, vox2mni(np.eye(4)))\n",
    "img_arr.shape\n"
   ]
  },
  {
   "cell_type": "code",
   "execution_count": 9,
   "id": "77ee8f2c-9ce1-45e7-80d9-6dd71405a061",
   "metadata": {},
   "outputs": [
    {
     "data": {
      "text/plain": [
       "AffineTransform(\n",
       "   function_domain=CoordinateSystem(coord_names=('i', 'j', 'k'), name='voxels', coord_dtype=float64),\n",
       "   function_range=CoordinateSystem(coord_names=('scanner-x=L->R', 'scanner-y=P->A', 'scanner-z=I->S'), name='scanner', coord_dtype=float64),\n",
       "   affine=array([[ 3.42160824e-08,  2.62855434e-04, -1.20317491e+00,\n",
       "                   9.91207504e+01],\n",
       "                 [-2.61549173e-04, -1.00463896e+00, -3.14800703e-04,\n",
       "                   1.40500000e+02],\n",
       "                 [-9.99635960e-01,  2.62858189e-04,  4.11829240e-08,\n",
       "                   1.32552368e+02],\n",
       "                 [ 0.00000000e+00,  0.00000000e+00,  0.00000000e+00,\n",
       "                   1.00000000e+00]])\n",
       ")"
      ]
     },
     "execution_count": 9,
     "metadata": {},
     "output_type": "execute_result"
    }
   ],
   "source": [
    "img.coordmap"
   ]
  },
  {
   "cell_type": "code",
   "execution_count": 10,
   "id": "7d431ea2-3322-4b7b-bea1-a5623a32ff91",
   "metadata": {},
   "outputs": [],
   "source": [
    "nat_img = nipy.load_image(anatfile)\n",
    "coordmap = nat_img.coordmap"
   ]
  },
  {
   "cell_type": "code",
   "execution_count": 11,
   "id": "60b975f2-b24e-420f-a3ac-3da0d5bcee4e",
   "metadata": {},
   "outputs": [
    {
     "data": {
      "text/plain": [
       "Image(\n",
       "  data=array([[[10712,  8026, ...,  9613,  9670],\n",
       "               [ 6349,  5333, ..., 10021,  9566],\n",
       "               ...,\n",
       "               [ 4542,  5818, ...,  2290,  3090],\n",
       "               [ 5991,  6358, ...,  2839,  2743]],\n",
       "       \n",
       "              [[10463,  6010, ..., 10533, 10072],\n",
       "               [ 6583,  4887, ...,  9797, 10336],\n",
       "               ...,\n",
       "               [ 3418,  4395, ...,  2473,  4448],\n",
       "               [ 3966,  5384, ...,  2485,  3963]],\n",
       "       \n",
       "              ...,\n",
       "       \n",
       "              [[ 8381,  9044, ..., 10042,  9611],\n",
       "               [ 6041,  6312, ...,  9524,  9782],\n",
       "               ...,\n",
       "               [ 2563,  2250, ...,  4907,  3337],\n",
       "               [ 4595,  4240, ...,  4183,  4100]],\n",
       "       \n",
       "              [[ 9595, 10002, ...,  9990,  9453],\n",
       "               [ 7083,  9145, ..., 10024,  9508],\n",
       "               ...,\n",
       "               [ 3643,  3381, ...,  2931,  2034],\n",
       "               [ 4064,  3192, ...,  2519,  2971]]], dtype=int16),\n",
       "  coordmap=AffineTransform(\n",
       "            function_domain=CoordinateSystem(coord_names=('i', 'j', 'k'), name='voxels', coord_dtype=float64),\n",
       "            function_range=CoordinateSystem(coord_names=('aligned-x=L->R', 'aligned-y=P->A', 'aligned-z=I->S'), name='aligned', coord_dtype=float64),\n",
       "            affine=array([[ -2.,   0.,   0.,  32.],\n",
       "                          [  0.,   2.,   0., -40.],\n",
       "                          [  0.,   0.,   2., -16.],\n",
       "                          [  0.,   0.,   0.,   1.]])\n",
       "         ))"
      ]
     },
     "execution_count": 11,
     "metadata": {},
     "output_type": "execute_result"
    }
   ],
   "source": [
    "nat_img"
   ]
  },
  {
   "cell_type": "code",
   "execution_count": 12,
   "id": "a0b5b4e1-8f75-46af-9967-c28139811669",
   "metadata": {},
   "outputs": [
    {
     "data": {
      "text/plain": [
       "('i', 'j', 'k')"
      ]
     },
     "execution_count": 12,
     "metadata": {},
     "output_type": "execute_result"
    }
   ],
   "source": [
    "coordmap.function_domain.coord_names"
   ]
  },
  {
   "cell_type": "code",
   "execution_count": 13,
   "id": "826be649-931b-48a2-bc97-608bb9cea52b",
   "metadata": {},
   "outputs": [
    {
     "data": {
      "text/plain": [
       "array([[ -2.,   0.,   0.,  32.],\n",
       "       [  0.,   2.,   0., -40.],\n",
       "       [  0.,   0.,   2., -16.],\n",
       "       [  0.,   0.,   0.,   1.]])"
      ]
     },
     "execution_count": 13,
     "metadata": {},
     "output_type": "execute_result"
    }
   ],
   "source": [
    "coordmap.affine"
   ]
  },
  {
   "cell_type": "code",
   "execution_count": 14,
   "id": "70e6b06d-96f2-4a8b-ba89-314408770ffa",
   "metadata": {},
   "outputs": [
    {
     "data": {
      "text/plain": [
       "array([ 30., -36., -10.,   1.])"
      ]
     },
     "execution_count": 14,
     "metadata": {},
     "output_type": "execute_result"
    }
   ],
   "source": [
    "np.dot(coordmap.affine, np.transpose([1,2,3,1]))"
   ]
  },
  {
   "cell_type": "code",
   "execution_count": 15,
   "id": "d81faaf3-872b-4788-9d90-814db12b48f7",
   "metadata": {},
   "outputs": [],
   "source": [
    "from nipy.testing import anatfile, funcfile\n",
    "from nipy.algorithms.registration import HistogramRegistration\n",
    "from nipy.algorithms.kernel_smooth import LinearFilter"
   ]
  },
  {
   "cell_type": "code",
   "execution_count": 16,
   "id": "7395b202-f76b-4b9a-8e74-77a5614f9f53",
   "metadata": {},
   "outputs": [
    {
     "data": {
      "text/html": [
       "<style>.jp-Cell { width: 100% !important; }</style>"
      ],
      "text/plain": [
       "<IPython.core.display.HTML object>"
      ]
     },
     "metadata": {},
     "output_type": "display_data"
    }
   ],
   "source": [
    "from IPython.core.display import display, HTML\n",
    "display(HTML(\"<style>.jp-Cell { width: 100% !important; }</style>\"))"
   ]
  },
  {
   "cell_type": "code",
   "execution_count": 17,
   "id": "b21f526c-e1ad-43b6-92e9-323f7b1d9800",
   "metadata": {},
   "outputs": [
    {
     "name": "stderr",
     "output_type": "stream",
     "text": [
      "/home/oskar/.pyenv/versions/3.9.1/lib/python3.9/site-packages/nipy/algorithms/kernel_smooth.py:261: FutureWarning: Using a non-tuple sequence for multidimensional indexing is deprecated; use `arr[tuple(seq)]` instead of `arr[seq]`. In the future this will be interpreted as an array index, `arr[np.array(seq)]`, which will result either in an error or a different result.\n",
      "  return X[slices]\n",
      "/home/oskar/.pyenv/versions/3.9.1/lib/python3.9/site-packages/nipy/algorithms/kernel_smooth.py:79: FutureWarning: Using a non-tuple sequence for multidimensional indexing is deprecated; use `arr[tuple(seq)]` instead of `arr[seq]`. In the future this will be interpreted as an array index, `arr[np.array(seq)]`, which will result either in an error or a different result.\n",
      "  self.fkernel[slices] = kernel\n",
      "/home/oskar/.pyenv/versions/3.9.1/lib/python3.9/site-packages/nipy/algorithms/kernel_smooth.py:197: FutureWarning: Using a non-tuple sequence for multidimensional indexing is deprecated; use `arr[tuple(seq)]` instead of `arr[seq]`. In the future this will be interpreted as an array index, `arr[np.array(seq)]`, which will result either in an error or a different result.\n",
      "  _buffer[slices] = indata\n",
      "/home/oskar/.pyenv/versions/3.9.1/lib/python3.9/site-packages/nipy/algorithms/kernel_smooth.py:184: FutureWarning: Using a non-tuple sequence for multidimensional indexing is deprecated; use `arr[tuple(seq)]` instead of `arr[seq]`. In the future this will be interpreted as an array index, `arr[np.array(seq)]`, which will result either in an error or a different result.\n",
      "  _out = _out[[slice(self._kernel.shape[i] // 2,\n"
     ]
    }
   ],
   "source": [
    "smoother = LinearFilter(nat_img.coordmap, nat_img.shape)\n",
    "atlas_img = smoother.smooth(nat_img)\n",
    "subject_img = nat_img"
   ]
  },
  {
   "cell_type": "code",
   "execution_count": 18,
   "id": "394015ae-e9ce-4fea-85c3-04df6575d0e8",
   "metadata": {},
   "outputs": [
    {
     "name": "stdout",
     "output_type": "stream",
     "text": [
      "Initial guess...\n",
      "translation : [0. 0. 0.]\n",
      "rotation    : [0. 0. 0.]\n",
      "scaling     : [1. 1. 1.]\n",
      "pre-rotation: [0. 0. 0.]\n",
      "Optimizing using fmin_powell\n",
      "translation : [0. 0. 0.]\n",
      "rotation    : [0. 0. 0.]\n",
      "scaling     : [0.958524  0.958524  0.9340281]\n",
      "pre-rotation: [-0.01618034 -0.00179263  0.00023428]\n",
      "crl1 = 0.3768874361325327\n",
      "\n",
      "translation : [-0.07734534  0.381966    0.381966  ]\n",
      "rotation    : [ 0.01        0.00159043 -0.00014331]\n",
      "scaling     : [0.94313955 0.96219223 0.91903682]\n",
      "pre-rotation: [-0.02236068 -0.00205206  0.00078714]\n",
      "crl1 = 0.385735602464662\n",
      "\n",
      "translation : [-0.11864404  0.3606437   0.46908232]\n",
      "rotation    : [ 0.01381966  0.00287698 -0.00070219]\n",
      "scaling     : [0.9373286  0.96136628 0.91833441]\n",
      "pre-rotation: [-0.02061126 -0.0005857   0.00098657]\n",
      "crl1 = 0.38739712936887405\n",
      "\n",
      "Optimization terminated successfully.\n",
      "         Current function value: -0.387397\n",
      "         Iterations: 3\n",
      "         Function evaluations: 415\n"
     ]
    }
   ],
   "source": [
    "reggie = HistogramRegistration(subject_img, atlas_img)\n",
    "aff = reggie.optimize('affine').as_affine()"
   ]
  },
  {
   "cell_type": "code",
   "execution_count": 40,
   "id": "f731577a-f488-4fb4-8757-fbb5bb9512cf",
   "metadata": {},
   "outputs": [],
   "source": [
    "from nipy.core.api import AffineTransform\n",
    "subject_cmap = subject_img.coordmap\n",
    "talairach_cmap = atlas_img.coordmap"
   ]
  },
  {
   "cell_type": "code",
   "execution_count": 42,
   "id": "fd3e7aa3-0636-40f7-979c-e1506ee90476",
   "metadata": {},
   "outputs": [],
   "source": [
    "subject_world_to_talairach_world = AffineTransform(\n",
    "                                        subject_cmap.function_range,\n",
    "                                        talairach_cmap.function_range,\n",
    "                                        aff)"
   ]
  },
  {
   "cell_type": "code",
   "execution_count": null,
   "id": "19275022-9a3d-4bf3-8c2e-28e1b95ad756",
   "metadata": {},
   "outputs": [],
   "source": []
  },
  {
   "cell_type": "code",
   "execution_count": 43,
   "id": "cf89e97b-8ec7-451d-a50f-80a23ed7732a",
   "metadata": {},
   "outputs": [
    {
     "data": {
      "text/plain": [
       "True"
      ]
     },
     "execution_count": 43,
     "metadata": {},
     "output_type": "execute_result"
    }
   ],
   "source": [
    "from nipy.algorithms.resample import resample\n",
    "normalized_subject_img = resample(subject_img, talairach_cmap,\n",
    "                                  subject_world_to_talairach_world,\n",
    "                                  atlas_img.shape)\n",
    "\n",
    "normalized_subject_img.shape == atlas_img.shape\n"
   ]
  },
  {
   "cell_type": "code",
   "execution_count": 44,
   "id": "83f3b933-a82f-4169-9275-3f629e1c8316",
   "metadata": {},
   "outputs": [
    {
     "data": {
      "text/plain": [
       "True"
      ]
     },
     "execution_count": 44,
     "metadata": {},
     "output_type": "execute_result"
    }
   ],
   "source": [
    "normalized_subject_img.coordmap == atlas_img.coordmap"
   ]
  },
  {
   "cell_type": "code",
   "execution_count": 45,
   "id": "d71295ee-4f22-4bcf-b827-327fef997e25",
   "metadata": {},
   "outputs": [
    {
     "data": {
      "text/plain": [
       "True"
      ]
     },
     "execution_count": 45,
     "metadata": {},
     "output_type": "execute_result"
    }
   ],
   "source": [
    "np.all(normalized_subject_img.affine == atlas_img.affine)"
   ]
  },
  {
   "cell_type": "code",
   "execution_count": null,
   "id": "9d28860c-f4cf-44cb-8e1c-73db607a5060",
   "metadata": {},
   "outputs": [],
   "source": []
  },
  {
   "cell_type": "markdown",
   "id": "b73e4461-01eb-4a42-8813-9976200c98a2",
   "metadata": {},
   "source": [
    "### Test af billeder\n",
    "\n",
    "- Tag 1.5T og 3T og se på følgende:\n",
    "    - normalized_subject_img.shape == atlas_img.shape\n",
    "\n",
    "    - normalized_subject_img.coordmap == atlas_img.coordmap\n",
    "    - np.all(normalized_subject_img.affine == atlas_img.affine)"
   ]
  },
  {
   "cell_type": "code",
   "execution_count": 47,
   "id": "88a85ab7-3d5b-4ea0-b092-f559d3656188",
   "metadata": {},
   "outputs": [],
   "source": [
    "img_3T_file = \"/home/oskar/Skrivebord/002_S_0413_3T/002_S_0413/ADNI_002_S_0413_MR_MPR____N3__Scaled_Br_20070216232854688_S14782_I40657.nii\""
   ]
  },
  {
   "cell_type": "code",
   "execution_count": 48,
   "id": "4c56d959-c76d-41f6-84da-601b1a125ee1",
   "metadata": {},
   "outputs": [],
   "source": [
    "img_1_5T_file = \"/home/oskar/Skrivebord/002_S_0413/ADNI_002_S_0413_MR_MP-RAGE__br_raw_20060502142705523_1_S13893_I14437.nii\""
   ]
  },
  {
   "cell_type": "code",
   "execution_count": 49,
   "id": "bafa6167-e2f0-4cdb-8bcf-dbdb001f402a",
   "metadata": {},
   "outputs": [],
   "source": [
    "img_3T = load_image(img_3T_file)\n",
    "img_1_5T = load_image(img_1_5T_file)"
   ]
  },
  {
   "cell_type": "code",
   "execution_count": 57,
   "id": "ebb9fa3e-1361-4e01-be7e-93241fedfa31",
   "metadata": {},
   "outputs": [
    {
     "name": "stdout",
     "output_type": "stream",
     "text": [
      "The shape of 3T: (256, 256, 170)\n",
      "The shape of 1.5T: (166, 256, 256, 1)\n"
     ]
    },
    {
     "data": {
      "text/plain": [
       "False"
      ]
     },
     "execution_count": 57,
     "metadata": {},
     "output_type": "execute_result"
    }
   ],
   "source": [
    "print(f'The shape of 3T: {img_3T.shape}') ; print(f'The shape of 1.5T: {img_1_5T.shape}')\n",
    "img_3T.shape == img_1_5T.shape"
   ]
  },
  {
   "cell_type": "code",
   "execution_count": 52,
   "id": "e6d80605-260b-4fac-a51a-2af374893c23",
   "metadata": {},
   "outputs": [
    {
     "name": "stdout",
     "output_type": "stream",
     "text": [
      "AffineTransform(\n",
      "   function_domain=CoordinateSystem(coord_names=('i', 'j', 'k'), name='voxels', coord_dtype=float64),\n",
      "   function_range=CoordinateSystem(coord_names=('scanner-x=L->R', 'scanner-y=P->A', 'scanner-z=I->S'), name='scanner', coord_dtype=float64),\n",
      "   affine=array([[ 3.42160824e-08,  2.62855434e-04, -1.20317491e+00,\n",
      "                   9.91207504e+01],\n",
      "                 [-2.61549173e-04, -1.00463896e+00, -3.14800703e-04,\n",
      "                   1.40500000e+02],\n",
      "                 [-9.99635960e-01,  2.62858189e-04,  4.11829240e-08,\n",
      "                   1.32552368e+02],\n",
      "                 [ 0.00000000e+00,  0.00000000e+00,  0.00000000e+00,\n",
      "                   1.00000000e+00]])\n",
      ")\n",
      "AffineTransform(\n",
      "   function_domain=CoordinateSystem(coord_names=('i', 'j', 'k', 't'), name='voxels', coord_dtype=float64),\n",
      "   function_range=CoordinateSystem(coord_names=('scanner-x=L->R', 'scanner-y=P->A', 'scanner-z=I->S', 't'), name='scanner', coord_dtype=float64),\n",
      "   affine=array([[  1.19999635,   0.        ,   0.        ,   0.        ,\n",
      "                  108.75099945],\n",
      "                 [  0.        ,   0.9375    ,   0.        ,   0.        ,\n",
      "                  155.0980072 ],\n",
      "                 [  0.        ,   0.        ,   0.9375    ,   0.        ,\n",
      "                  410.60501099],\n",
      "                 [  0.        ,   0.        ,   0.        ,   0.        ,\n",
      "                    0.        ],\n",
      "                 [  0.        ,   0.        ,   0.        ,   0.        ,\n",
      "                    1.        ]])\n",
      ")\n"
     ]
    }
   ],
   "source": [
    "print(img_3T.coordmap)\n",
    "print(img_1_5T.coordmap)"
   ]
  },
  {
   "cell_type": "code",
   "execution_count": 54,
   "id": "2285d108-f9e9-4385-b059-d7f1258b5caf",
   "metadata": {},
   "outputs": [
    {
     "name": "stderr",
     "output_type": "stream",
     "text": [
      "<ipython-input-54-508fe96f4d2c>:1: DeprecationWarning: elementwise comparison failed; this will raise an error in the future.\n",
      "  np.all(img_3T.affine == img_1_5T.affine)\n"
     ]
    },
    {
     "data": {
      "text/plain": [
       "False"
      ]
     },
     "execution_count": 54,
     "metadata": {},
     "output_type": "execute_result"
    }
   ],
   "source": [
    "np.all(img_3T.affine == img_1_5T.affine) ; ; "
   ]
  },
  {
   "cell_type": "code",
   "execution_count": 59,
   "id": "1b34fd53-ade6-453c-859f-4bc3be6c286e",
   "metadata": {},
   "outputs": [],
   "source": [
    "import pandas as pd"
   ]
  },
  {
   "cell_type": "code",
   "execution_count": 62,
   "id": "90c2d567-a24c-4af9-bb23-e39d4c49e4d1",
   "metadata": {},
   "outputs": [],
   "source": [
    "d = pd.read_csv(\"/home/oskar/Dokumenter/sem7/AlzPred/idxs/idx_with_both.txt\")"
   ]
  },
  {
   "cell_type": "code",
   "execution_count": 73,
   "id": "41b123da-025b-44fe-88d4-6de685056a4e",
   "metadata": {},
   "outputs": [],
   "source": [
    "ar = np.asarray(d.columns)"
   ]
  },
  {
   "cell_type": "code",
   "execution_count": 83,
   "id": "b765d445-1ef2-4e6d-af03-8eda4c3f2a01",
   "metadata": {},
   "outputs": [],
   "source": [
    "out = pd.DataFrame()"
   ]
  },
  {
   "cell_type": "code",
   "execution_count": 86,
   "id": "44907829-a822-45f2-b0b8-28fd0035c40b",
   "metadata": {},
   "outputs": [],
   "source": [
    "out['idxs'] = ar[0].split()\n",
    "\n",
    "\n"
   ]
  },
  {
   "cell_type": "code",
   "execution_count": 93,
   "id": "a706c446-8f03-4629-9b00-796a8ce2de48",
   "metadata": {},
   "outputs": [],
   "source": [
    "out.to_csv('/home/oskar/Dokumenter/sem7/AlzPred/idxsuniq_idxs.csv')"
   ]
  },
  {
   "cell_type": "code",
   "execution_count": 94,
   "id": "4a064213-1423-40c3-803d-c2152ad9ca29",
   "metadata": {},
   "outputs": [
    {
     "data": {
      "text/plain": [
       "151"
      ]
     },
     "execution_count": 94,
     "metadata": {},
     "output_type": "execute_result"
    }
   ],
   "source": [
    "len(out)"
   ]
  },
  {
   "cell_type": "markdown",
   "id": "c7406d05-6eae-40ad-b3ad-434c1604ab6b",
   "metadata": {},
   "source": [
    "out"
   ]
  },
  {
   "cell_type": "code",
   "execution_count": 96,
   "id": "a20c334a-9637-4a15-8065-f49987617607",
   "metadata": {},
   "outputs": [
    {
     "data": {
      "text/html": [
       "<div>\n",
       "<style scoped>\n",
       "    .dataframe tbody tr th:only-of-type {\n",
       "        vertical-align: middle;\n",
       "    }\n",
       "\n",
       "    .dataframe tbody tr th {\n",
       "        vertical-align: top;\n",
       "    }\n",
       "\n",
       "    .dataframe thead th {\n",
       "        text-align: right;\n",
       "    }\n",
       "</style>\n",
       "<table border=\"1\" class=\"dataframe\">\n",
       "  <thead>\n",
       "    <tr style=\"text-align: right;\">\n",
       "      <th></th>\n",
       "      <th>idxs</th>\n",
       "    </tr>\n",
       "  </thead>\n",
       "  <tbody>\n",
       "    <tr>\n",
       "      <th>0</th>\n",
       "      <td>002_S_0413</td>\n",
       "    </tr>\n",
       "    <tr>\n",
       "      <th>1</th>\n",
       "      <td>005_S_0553</td>\n",
       "    </tr>\n",
       "    <tr>\n",
       "      <th>2</th>\n",
       "      <td>016_S_0769</td>\n",
       "    </tr>\n",
       "    <tr>\n",
       "      <th>3</th>\n",
       "      <td>021_S_0332</td>\n",
       "    </tr>\n",
       "    <tr>\n",
       "      <th>4</th>\n",
       "      <td>023_S_0613</td>\n",
       "    </tr>\n",
       "    <tr>\n",
       "      <th>...</th>\n",
       "      <td>...</td>\n",
       "    </tr>\n",
       "    <tr>\n",
       "      <th>146</th>\n",
       "      <td>067_S_1185</td>\n",
       "    </tr>\n",
       "    <tr>\n",
       "      <th>147</th>\n",
       "      <td>094_S_1241</td>\n",
       "    </tr>\n",
       "    <tr>\n",
       "      <th>148</th>\n",
       "      <td>116_S_1232</td>\n",
       "    </tr>\n",
       "    <tr>\n",
       "      <th>149</th>\n",
       "      <td>128_S_1148</td>\n",
       "    </tr>\n",
       "    <tr>\n",
       "      <th>150</th>\n",
       "      <td>136_S_0195</td>\n",
       "    </tr>\n",
       "  </tbody>\n",
       "</table>\n",
       "<p>151 rows × 1 columns</p>\n",
       "</div>"
      ],
      "text/plain": [
       "           idxs\n",
       "0    002_S_0413\n",
       "1    005_S_0553\n",
       "2    016_S_0769\n",
       "3    021_S_0332\n",
       "4    023_S_0613\n",
       "..          ...\n",
       "146  067_S_1185\n",
       "147  094_S_1241\n",
       "148  116_S_1232\n",
       "149  128_S_1148\n",
       "150  136_S_0195\n",
       "\n",
       "[151 rows x 1 columns]"
      ]
     },
     "execution_count": 96,
     "metadata": {},
     "output_type": "execute_result"
    }
   ],
   "source": []
  },
  {
   "cell_type": "code",
   "execution_count": null,
   "id": "7378ebd8-de53-4e5d-8371-1844d5058c6a",
   "metadata": {},
   "outputs": [],
   "source": []
  }
 ],
 "metadata": {
  "kernelspec": {
   "display_name": "Python 3",
   "language": "python",
   "name": "python3"
  },
  "language_info": {
   "codemirror_mode": {
    "name": "ipython",
    "version": 3
   },
   "file_extension": ".py",
   "mimetype": "text/x-python",
   "name": "python",
   "nbconvert_exporter": "python",
   "pygments_lexer": "ipython3",
   "version": "3.9.1"
  }
 },
 "nbformat": 4,
 "nbformat_minor": 5
}
