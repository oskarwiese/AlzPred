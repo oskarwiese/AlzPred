{
 "cells": [
  {
   "cell_type": "code",
   "execution_count": 31,
   "id": "da4e5984-836c-4607-9a1d-00430fbd82e7",
   "metadata": {},
   "outputs": [],
   "source": [
    "import numpy as np\n",
    "import nipy\n",
    "from nipy import load_image\n",
    "from nipy.core.api import Image, vox2mni\n",
    "from nipy.testing import anatfile"
   ]
  },
  {
   "cell_type": "code",
   "execution_count": 6,
   "id": "4e5a8e5c-e97b-47e2-959b-be49d3f52c25",
   "metadata": {},
   "outputs": [],
   "source": [
    "file = \"Skrivebord/002_S_0413_3T/002_S_0413/u_rc1ADNI_002_S_0413_MR_MPR____N3__Scaled_Br_20070216232854688_S14782_I40657_Template.nii\""
   ]
  },
  {
   "cell_type": "code",
   "execution_count": 13,
   "id": "d4c2113e-51a6-4a0d-a580-3aa2295d285d",
   "metadata": {},
   "outputs": [],
   "source": [
    "img = load_image(file)"
   ]
  },
  {
   "cell_type": "code",
   "execution_count": 14,
   "id": "d7e0da3d-04f2-47f4-bf91-409fccd0fd96",
   "metadata": {},
   "outputs": [
    {
     "data": {
      "text/plain": [
       "nipy.core.image.image.Image"
      ]
     },
     "execution_count": 14,
     "metadata": {},
     "output_type": "execute_result"
    }
   ],
   "source": [
    "type(img)"
   ]
  },
  {
   "cell_type": "code",
   "execution_count": 15,
   "id": "d54965f6-b0dd-4971-acb7-42b7a56253d0",
   "metadata": {},
   "outputs": [
    {
     "data": {
      "text/plain": [
       "(121, 145, 121, 1, 3)"
      ]
     },
     "execution_count": 15,
     "metadata": {},
     "output_type": "execute_result"
    }
   ],
   "source": [
    "img.shape"
   ]
  },
  {
   "cell_type": "code",
   "execution_count": 21,
   "id": "8ec1035b-0397-4551-8a15-5d2641537096",
   "metadata": {},
   "outputs": [],
   "source": [
    "img_arr = img.get_data()"
   ]
  },
  {
   "cell_type": "code",
   "execution_count": 26,
   "id": "5c000bd1-7db4-4b45-9fa2-6f52c9323d50",
   "metadata": {},
   "outputs": [
    {
     "data": {
      "text/plain": [
       "(43, 128, 128)"
      ]
     },
     "execution_count": 26,
     "metadata": {},
     "output_type": "execute_result"
    }
   ],
   "source": [
    "rawarray = np.zeros((43,128,128))\n",
    "img_arr = Image(rawarray, vox2mni(np.eye(4)))\n",
    "img_arr.shape\n"
   ]
  },
  {
   "cell_type": "code",
   "execution_count": 29,
   "id": "77ee8f2c-9ce1-45e7-80d9-6dd71405a061",
   "metadata": {},
   "outputs": [
    {
     "data": {
      "text/plain": [
       "AffineTransform(\n",
       "   function_domain=CoordinateSystem(coord_names=('i', 'j', 'k', 't', 'u'), name='voxels', coord_dtype=float64),\n",
       "   function_range=CoordinateSystem(coord_names=('aligned-x=L->R', 'aligned-y=P->A', 'aligned-z=I->S', 't', 'u'), name='aligned', coord_dtype=float64),\n",
       "   affine=array([[  -1.5,    0. ,    0. ,    0. ,    0. ,   90. ],\n",
       "                 [   0. ,    1.5,    0. ,    0. ,    0. , -126. ],\n",
       "                 [   0. ,    0. ,    1.5,    0. ,    0. ,  -72. ],\n",
       "                 [   0. ,    0. ,    0. ,    0. ,    0. ,    0. ],\n",
       "                 [   0. ,    0. ,    0. ,    0. ,    0. ,    0. ],\n",
       "                 [   0. ,    0. ,    0. ,    0. ,    0. ,    1. ]])\n",
       ")"
      ]
     },
     "execution_count": 29,
     "metadata": {},
     "output_type": "execute_result"
    }
   ],
   "source": [
    "img.coordmap"
   ]
  },
  {
   "cell_type": "code",
   "execution_count": 34,
   "id": "7d431ea2-3322-4b7b-bea1-a5623a32ff91",
   "metadata": {},
   "outputs": [],
   "source": [
    "nat_img = nipy.load_image(anatfile)\n",
    "coordmap = nat_img.coordmapfrom IPython.core.display import display, HTML\n",
    "display(HTML(\"<style>.jp-Cell { width: 60% !important; }</style>\"))"
   ]
  },
  {
   "cell_type": "code",
   "execution_count": 40,
   "id": "60b975f2-b24e-420f-a3ac-3da0d5bcee4e",
   "metadata": {},
   "outputs": [
    {
     "data": {
      "text/plain": [
       "Image(\n",
       "  data=array([[[10712,  8026, ...,  9613,  9670],\n",
       "               [ 6349,  5333, ..., 10021,  9566],\n",
       "               ...,\n",
       "               [ 4542,  5818, ...,  2290,  3090],\n",
       "               [ 5991,  6358, ...,  2839,  2743]],\n",
       "       \n",
       "              [[10463,  6010, ..., 10533, 10072],\n",
       "               [ 6583,  4887, ...,  9797, 10336],\n",
       "               ...,\n",
       "               [ 3418,  4395, ...,  2473,  4448],\n",
       "               [ 3966,  5384, ...,  2485,  3963]],\n",
       "       \n",
       "              ...,\n",
       "       \n",
       "              [[ 8381,  9044, ..., 10042,  9611],\n",
       "               [ 6041,  6312, ...,  9524,  9782],\n",
       "               ...,\n",
       "               [ 2563,  2250, ...,  4907,  3337],\n",
       "               [ 4595,  4240, ...,  4183,  4100]],\n",
       "       \n",
       "              [[ 9595, 10002, ...,  9990,  9453],\n",
       "               [ 7083,  9145, ..., 10024,  9508],\n",
       "               ...,\n",
       "               [ 3643,  3381, ...,  2931,  2034],\n",
       "               [ 4064,  3192, ...,  2519,  2971]]], dtype=int16),\n",
       "  coordmap=AffineTransform(\n",
       "            function_domain=CoordinateSystem(coord_names=('i', 'j', 'k'), name='voxels', coord_dtype=float64),\n",
       "            function_range=CoordinateSystem(coord_names=('aligned-x=L->R', 'aligned-y=P->A', 'aligned-z=I->S'), name='aligned', coord_dtype=float64),\n",
       "            affine=array([[ -2.,   0.,   0.,  32.],\n",
       "                          [  0.,   2.,   0., -40.],\n",
       "                          [  0.,   0.,   2., -16.],\n",
       "                          [  0.,   0.,   0.,   1.]])\n",
       "         ))"
      ]
     },
     "execution_count": 40,
     "metadata": {},
     "output_type": "execute_result"
    }
   ],
   "source": [
    "nat_img"
   ]
  },
  {
   "cell_type": "code",
   "execution_count": 41,
   "id": "a0b5b4e1-8f75-46af-9967-c28139811669",
   "metadata": {},
   "outputs": [
    {
     "data": {
      "text/plain": [
       "('i', 'j', 'k')"
      ]
     },
     "execution_count": 41,
     "metadata": {},
     "output_type": "execute_result"
    }
   ],
   "source": [
    "coordmap.function_domain.coord_names"
   ]
  },
  {
   "cell_type": "code",
   "execution_count": 43,
   "id": "826be649-931b-48a2-bc97-608bb9cea52b",
   "metadata": {},
   "outputs": [
    {
     "data": {
      "text/plain": [
       "array([[ -2.,   0.,   0.,  32.],\n",
       "       [  0.,   2.,   0., -40.],\n",
       "       [  0.,   0.,   2., -16.],\n",
       "       [  0.,   0.,   0.,   1.]])"
      ]
     },
     "execution_count": 43,
     "metadata": {},
     "output_type": "execute_result"
    }
   ],
   "source": [
    "coordmap.affine"
   ]
  },
  {
   "cell_type": "code",
   "execution_count": 44,
   "id": "70e6b06d-96f2-4a8b-ba89-314408770ffa",
   "metadata": {},
   "outputs": [
    {
     "data": {
      "text/plain": [
       "array([ 30., -36., -10.,   1.])"
      ]
     },
     "execution_count": 44,
     "metadata": {},
     "output_type": "execute_result"
    }
   ],
   "source": [
    "np.dot(coordmap.affine, np.transpose([1,2,3,1]))"
   ]
  },
  {
   "cell_type": "code",
   "execution_count": 45,
   "id": "d81faaf3-872b-4788-9d90-814db12b48f7",
   "metadata": {},
   "outputs": [],
   "source": [
    "from nipy.testing import anatfile, funcfile\n",
    "from nipy.algorithms.registration import HistogramRegistration\n",
    "from nipy.algorithms.kernel_smooth import LinearFilter"
   ]
  },
  {
   "cell_type": "code",
   "execution_count": 54,
   "id": "7395b202-f76b-4b9a-8e74-77a5614f9f53",
   "metadata": {},
   "outputs": [
    {
     "data": {
      "text/html": [
       "<style>.jp-Cell { width: 100% !important; }</style>"
      ],
      "text/plain": [
       "<IPython.core.display.HTML object>"
      ]
     },
     "metadata": {},
     "output_type": "display_data"
    }
   ],
   "source": [
    "from IPython.core.display import display, HTML\n",
    "display(HTML(\"<style>.jp-Cell { width: 100% !important; }</style>\"))"
   ]
  },
  {
   "cell_type": "code",
   "execution_count": 56,
   "id": "b21f526c-e1ad-43b6-92e9-323f7b1d9800",
   "metadata": {},
   "outputs": [],
   "source": [
    "smoother = LinearFilter(nat_img.coordmap, nat_img.shape)\n",
    "atlas_img = smoother.smooth(nat_img)\n",
    "subject_img = nat_img"
   ]
  },
  {
   "cell_type": "code",
   "execution_count": 57,
   "id": "394015ae-e9ce-4fea-85c3-04df6575d0e8",
   "metadata": {},
   "outputs": [
    {
     "name": "stdout",
     "output_type": "stream",
     "text": [
      "Initial guess...\n",
      "translation : [0. 0. 0.]\n",
      "rotation    : [0. 0. 0.]\n",
      "scaling     : [1. 1. 1.]\n",
      "pre-rotation: [0. 0. 0.]\n",
      "Optimizing using fmin_powell\n",
      "translation : [0. 0. 0.]\n",
      "rotation    : [0. 0. 0.]\n",
      "scaling     : [0.958524  0.958524  0.9340281]\n",
      "pre-rotation: [-0.01618034 -0.00179263  0.00023428]\n",
      "crl1 = 0.3768874361325327\n",
      "\n",
      "translation : [-0.07734534  0.381966    0.381966  ]\n",
      "rotation    : [ 0.01        0.00159043 -0.00014331]\n",
      "scaling     : [0.94313955 0.96219223 0.91903682]\n",
      "pre-rotation: [-0.02236068 -0.00205206  0.00078714]\n",
      "crl1 = 0.385735602464662\n",
      "\n",
      "translation : [-0.11864404  0.3606437   0.46908232]\n",
      "rotation    : [ 0.01381966  0.00287698 -0.00070219]\n",
      "scaling     : [0.9373286  0.96136628 0.91833441]\n",
      "pre-rotation: [-0.02061126 -0.0005857   0.00098657]\n",
      "crl1 = 0.38739712936887405\n",
      "\n",
      "Optimization terminated successfully.\n",
      "         Current function value: -0.387397\n",
      "         Iterations: 3\n",
      "         Function evaluations: 415\n"
     ]
    }
   ],
   "source": [
    "reggie = HistogramRegistration(subject_im, atlas_img)\n",
    "aff = reggie.optimize('affine').as_affine()"
   ]
  },
  {
   "cell_type": "code",
   "execution_count": 58,
   "id": "f731577a-f488-4fb4-8757-fbb5bb9512cf",
   "metadata": {},
   "outputs": [],
   "source": [
    "from nipy.core.api import AffineTransform\n",
    "subject_cmap = subject_im.coordmap\n",
    "talairach_cmap = atlas_im.coordmap"
   ]
  },
  {
   "cell_type": "code",
   "execution_count": 67,
   "id": "fd3e7aa3-0636-40f7-979c-e1506ee90476",
   "metadata": {},
   "outputs": [
    {
     "ename": "TypeError",
     "evalue": "__init__() takes 4 positional arguments but 5 were given",
     "output_type": "error",
     "traceback": [
      "\u001b[0;31m---------------------------------------------------------------------------\u001b[0m",
      "\u001b[0;31mTypeError\u001b[0m                                 Traceback (most recent call last)",
      "\u001b[0;32m<ipython-input-67-8b56ecd9100c>\u001b[0m in \u001b[0;36m<module>\u001b[0;34m\u001b[0m\n\u001b[0;32m----> 1\u001b[0;31m subject_world_to_talairach_world = AffineTransform(\n\u001b[0m\u001b[1;32m      2\u001b[0m     \u001b[0msubject_cmap\u001b[0m\u001b[0;34m.\u001b[0m\u001b[0mfunction_domain\u001b[0m\u001b[0;34m,\u001b[0m\u001b[0;34m\u001b[0m\u001b[0;34m\u001b[0m\u001b[0m\n\u001b[1;32m      3\u001b[0m     \u001b[0msubject_cmap\u001b[0m\u001b[0;34m.\u001b[0m\u001b[0mfunction_range\u001b[0m\u001b[0;34m,\u001b[0m\u001b[0;34m\u001b[0m\u001b[0;34m\u001b[0m\u001b[0m\n\u001b[1;32m      4\u001b[0m     \u001b[0msubject_cmap\u001b[0m\u001b[0;34m.\u001b[0m\u001b[0maffine\u001b[0m\u001b[0;34m,\u001b[0m\u001b[0;34m\u001b[0m\u001b[0;34m\u001b[0m\u001b[0m\n\u001b[1;32m      5\u001b[0m    \u001b[0;31m# talairach_cmap.function_domain,\u001b[0m\u001b[0;34m\u001b[0m\u001b[0;34m\u001b[0m\u001b[0;34m\u001b[0m\u001b[0m\n",
      "\u001b[0;31mTypeError\u001b[0m: __init__() takes 4 positional arguments but 5 were given"
     ]
    }
   ],
   "source": [
    "subject_world_to_talairach_world = AffineTransform(\n",
    "    subject_cmap.function_domain,\n",
    "    subject_cmap.function_range,\n",
    "    subject_cmap.affine, \n",
    "   # talairach_cmap.function_domain,\n",
    "   # talairach_cmap.function_range,\n",
    "   # talairach_cmap.affine\n",
    ")"
   ]
  },
  {
   "cell_type": "code",
   "execution_count": 66,
   "id": "408c39d8-4dd7-4009-9da6-eade5fb793bc",
   "metadata": {},
   "outputs": [
    {
     "data": {
      "text/plain": [
       "AffineTransform(\n",
       "   function_domain=CoordinateSystem(coord_names=('i', 'j', 'k'), name='voxels', coord_dtype=float64),\n",
       "   function_range=CoordinateSystem(coord_names=('aligned-x=L->R', 'aligned-y=P->A', 'aligned-z=I->S'), name='aligned', coord_dtype=float64),\n",
       "   affine=array([[ -2.,   0.,   0.,  32.],\n",
       "                 [  0.,   2.,   0., -40.],\n",
       "                 [  0.,   0.,   2., -16.],\n",
       "                 [  0.,   0.,   0.,   1.]])\n",
       ")"
      ]
     },
     "execution_count": 66,
     "metadata": {},
     "output_type": "execute_result"
    }
   ],
   "source": [
    "subject_world_to_talairach_world"
   ]
  },
  {
   "cell_type": "code",
   "execution_count": 63,
   "id": "63fde51d-33f8-44dd-949b-7ee2594efbd8",
   "metadata": {},
   "outputs": [
    {
     "name": "stdout",
     "output_type": "stream",
     "text": [
      "Help on class AffineTransform in module nipy.core.reference.coordinate_map:\n",
      "\n",
      "class AffineTransform(builtins.object)\n",
      " |  AffineTransform(function_domain, function_range, affine)\n",
      " |  \n",
      " |  Class for affine transformation from domain to a range\n",
      " |  \n",
      " |  This class has an affine attribute, which is a matrix representing\n",
      " |  the affine transformation in homogeneous coordinates.  This matrix\n",
      " |  is used to evaluate the function, rather than having an explicit\n",
      " |  function (as is the case for a CoordinateMap).\n",
      " |  \n",
      " |  Examples\n",
      " |  --------\n",
      " |  >>> inp_cs = CoordinateSystem('ijk')\n",
      " |  >>> out_cs = CoordinateSystem('xyz')\n",
      " |  >>> cm = AffineTransform(inp_cs, out_cs, np.diag([1, 2, 3, 1]))\n",
      " |  >>> cm\n",
      " |  AffineTransform(\n",
      " |     function_domain=CoordinateSystem(coord_names=('i', 'j', 'k'), name='', coord_dtype=float64),\n",
      " |     function_range=CoordinateSystem(coord_names=('x', 'y', 'z'), name='', coord_dtype=float64),\n",
      " |     affine=array([[ 1.,  0.,  0.,  0.],\n",
      " |                   [ 0.,  2.,  0.,  0.],\n",
      " |                   [ 0.,  0.,  3.,  0.],\n",
      " |                   [ 0.,  0.,  0.,  1.]])\n",
      " |  )\n",
      " |  \n",
      " |  >>> cm.affine\n",
      " |  array([[ 1.,  0.,  0.,  0.],\n",
      " |         [ 0.,  2.,  0.,  0.],\n",
      " |         [ 0.,  0.,  3.,  0.],\n",
      " |         [ 0.,  0.,  0.,  1.]])\n",
      " |  >>> cm([1,1,1])\n",
      " |  array([ 1.,  2.,  3.])\n",
      " |  >>> icm = cm.inverse()\n",
      " |  >>> icm([1,2,3])\n",
      " |  array([ 1.,  1.,  1.])\n",
      " |  \n",
      " |  Methods defined here:\n",
      " |  \n",
      " |  __call__(self, x)\n",
      " |      Return mapping evaluated at x\n",
      " |      \n",
      " |      Parameters\n",
      " |      ----------\n",
      " |      x : array-like\n",
      " |         Values in domain coordinate system space that will be mapped\n",
      " |         to the range coordinate system space, using the homogeneous\n",
      " |         transform matrix self.affine.  The last dimension of the\n",
      " |         array is the coordinate dimension.  Thus `x` can be any array\n",
      " |         that can be reshaped to (N, self.function_domain.ndim), and\n",
      " |         that matches self.function_domain dtype.\n",
      " |      \n",
      " |      \n",
      " |      Returns\n",
      " |      -------\n",
      " |      y : array\n",
      " |         Values in range coordinate system space. If input `x` was\n",
      " |         shape S + (self.function_domain.ndim) (where S is a tuple of\n",
      " |         int and can be ()) - then the output `y` will be shape S +\n",
      " |         (self.function_range.ndim)\n",
      " |      \n",
      " |      Examples\n",
      " |      --------\n",
      " |      >>> input_cs = CoordinateSystem('ijk', coord_dtype=np.int)\n",
      " |      >>> output_cs = CoordinateSystem('xyz', coord_dtype=np.int)\n",
      " |      >>> affine = np.array([[1,0,0,1],\n",
      " |      ...                    [0,1,0,1],\n",
      " |      ...                    [0,0,1,1],\n",
      " |      ...                    [0,0,0,1]])\n",
      " |      >>> affine_transform = AffineTransform(input_cs, output_cs, affine)\n",
      " |      >>> affine_transform([2,3,4]) #doctest: +IGNORE_DTYPE\n",
      " |      array([3, 4, 5])\n",
      " |  \n",
      " |  __copy__(self)\n",
      " |      Create a copy of the AffineTransform.\n",
      " |      \n",
      " |      Returns\n",
      " |      -------\n",
      " |      affine_transform : AffineTransform\n",
      " |      \n",
      " |      Examples\n",
      " |      --------\n",
      " |      >>> import copy\n",
      " |      >>> cm = AffineTransform(CoordinateSystem('ijk'), CoordinateSystem('xyz'), np.eye(4))\n",
      " |      >>> cm_copy = copy.copy(cm)\n",
      " |      >>> cm is cm_copy\n",
      " |      False\n",
      " |      \n",
      " |      Note that the matrix (affine) is not a pointer to the\n",
      " |      same data, it's a full independent copy\n",
      " |      \n",
      " |      >>> cm.affine[0,0] = 2.0\n",
      " |      >>> cm_copy.affine[0,0]\n",
      " |      1.0\n",
      " |  \n",
      " |  __eq__(self, other)\n",
      " |      Return self==value.\n",
      " |  \n",
      " |  __init__(self, function_domain, function_range, affine)\n",
      " |      Initialize AffineTransform\n",
      " |      \n",
      " |      Parameters\n",
      " |      ----------\n",
      " |      function_domain : :class:`CoordinateSystem`\n",
      " |         input coordinates\n",
      " |      function_range : :class:`CoordinateSystem`\n",
      " |         output coordinates\n",
      " |      affine : array-like\n",
      " |         affine homogenous coordinate matrix\n",
      " |      \n",
      " |      Notes\n",
      " |      -----\n",
      " |      The dtype of the resulting matrix is determined by finding a\n",
      " |      safe typecast for the function_domain, function_range and affine.\n",
      " |  \n",
      " |  __ne__(self, other)\n",
      " |      Return self!=value.\n",
      " |  \n",
      " |  __repr__(self)\n",
      " |      Return repr(self).\n",
      " |  \n",
      " |  inverse(self, preserve_dtype=False)\n",
      " |      Return coordinate map with inverse affine transform or None\n",
      " |      \n",
      " |      Parameters\n",
      " |      ----------\n",
      " |      preserve_dtype : bool\n",
      " |          If False, return affine mapping from inverting the ``affine``.  The\n",
      " |          domain / range dtypes for the inverse may then change as a function\n",
      " |          of the dtype of the inverted ``affine``.  If True, try to invert our\n",
      " |          ``affine``, and see if it can be cast to the needed data type, which\n",
      " |          is ``self.function_domain.coord_dtype``.  We need this dtype in\n",
      " |          order for the inverse to preserve the coordinate system dtypes.\n",
      " |      \n",
      " |      Returns\n",
      " |      -------\n",
      " |      aff_cm_inv : ``AffineTransform`` instance or None\n",
      " |          ``AffineTransform`` mapping from the *range* of input `self` to the\n",
      " |          *domain* of input `self` - the inverse of `self`.  If\n",
      " |          ``self.affine`` was not invertible return None.  If `preserve_dtype`\n",
      " |          is True, and the inverse of ``self.affine`` cannot be cast to\n",
      " |          ``self.function_domain.coord_dtype``, then return None.  Otherwise\n",
      " |          return ``AffineTransform`` inverse mapping.  If `preserve_dtype` is\n",
      " |          False, the domain / range dtypes of the return inverse may well be\n",
      " |          different from those of the input `self`.\n",
      " |      \n",
      " |      Examples\n",
      " |      --------\n",
      " |      >>> input_cs = CoordinateSystem('ijk', coord_dtype=np.int)\n",
      " |      >>> output_cs = CoordinateSystem('xyz', coord_dtype=np.int)\n",
      " |      >>> affine = np.array([[1,0,0,1],\n",
      " |      ...                    [0,1,0,1],\n",
      " |      ...                    [0,0,1,1],\n",
      " |      ...                    [0,0,0,1]])\n",
      " |      >>> affine_transform = AffineTransform(input_cs, output_cs, affine)\n",
      " |      >>> affine_transform([2,3,4]) #doctest: +IGNORE_DTYPE\n",
      " |      array([3, 4, 5])\n",
      " |      \n",
      " |      The inverse transform, by default, generates a floating point inverse\n",
      " |      matrix and therefore floating point output:\n",
      " |      \n",
      " |      >>> affine_transform_inv = affine_transform.inverse()\n",
      " |      >>> affine_transform_inv([2, 6, 12])\n",
      " |      array([  1.,   5.,  11.])\n",
      " |      \n",
      " |      You can force it to preserve the coordinate system dtype with the\n",
      " |      `preserve_dtype` flag:\n",
      " |      \n",
      " |      >>> at_inv_preserved = affine_transform.inverse(preserve_dtype=True)\n",
      " |      >>> at_inv_preserved([2, 6, 12]) #doctest: +IGNORE_DTYPE\n",
      " |      array([  1,   5,  11])\n",
      " |      \n",
      " |      If you `preserve_dtype`, and there is no inverse affine preserving the\n",
      " |      dtype, the inverse is None:\n",
      " |      \n",
      " |      >>> affine2 = affine.copy()\n",
      " |      >>> affine2[0, 0] = 2 # now inverse can't be integer\n",
      " |      >>> aff_t = AffineTransform(input_cs, output_cs, affine2)\n",
      " |      >>> aff_t.inverse(preserve_dtype=True) is None\n",
      " |      True\n",
      " |  \n",
      " |  renamed_domain(self, newnames, name='')\n",
      " |      New AffineTransform with function_domain renamed\n",
      " |      \n",
      " |      Parameters\n",
      " |      ----------\n",
      " |      newnames : dict\n",
      " |         A dictionary whose keys are integers or are in\n",
      " |         mapping.function_domain.coord_names and whose values are the\n",
      " |         new names.\n",
      " |      \n",
      " |      Returns\n",
      " |      -------\n",
      " |      newmapping : AffineTransform\n",
      " |         A new AffineTransform with renamed function_domain.\n",
      " |      \n",
      " |      Examples\n",
      " |      --------\n",
      " |      >>> affine_domain = CoordinateSystem('ijk')\n",
      " |      >>> affine_range = CoordinateSystem('xyz')\n",
      " |      >>> affine_matrix = np.identity(4)\n",
      " |      >>> affine_mapping = AffineTransform(affine_domain, affine_range, affine_matrix)\n",
      " |      \n",
      " |      >>> new_affine_mapping = affine_mapping.renamed_domain({'i':'phase','k':'freq','j':'slice'})\n",
      " |      >>> new_affine_mapping.function_domain\n",
      " |      CoordinateSystem(coord_names=('phase', 'slice', 'freq'), name='', coord_dtype=float64)\n",
      " |      \n",
      " |      >>> new_affine_mapping = affine_mapping.renamed_domain({'i':'phase','k':'freq','l':'slice'})\n",
      " |      Traceback (most recent call last):\n",
      " |         ...\n",
      " |      ValueError: no domain coordinate named l\n",
      " |  \n",
      " |  renamed_range(self, newnames, name='')\n",
      " |      New AffineTransform with renamed function_domain\n",
      " |      \n",
      " |      Parameters\n",
      " |      ----------\n",
      " |      newnames : dict\n",
      " |         A dictionary whose keys are integers or are in\n",
      " |         mapping.function_range.coord_names and whose values are the\n",
      " |         new names.\n",
      " |      \n",
      " |      Returns\n",
      " |      -------\n",
      " |      newmapping : AffineTransform\n",
      " |         A new AffineTransform with renamed function_range.\n",
      " |      \n",
      " |      Examples\n",
      " |      --------\n",
      " |      >>> affine_domain = CoordinateSystem('ijk')\n",
      " |      >>> affine_range = CoordinateSystem('xyz')\n",
      " |      >>> affine_matrix = np.identity(4)\n",
      " |      >>> affine_mapping = AffineTransform(affine_domain, affine_range, affine_matrix)\n",
      " |      \n",
      " |      >>> new_affine_mapping = affine_mapping.renamed_range({'x':'u'})\n",
      " |      >>> new_affine_mapping.function_range\n",
      " |      CoordinateSystem(coord_names=('u', 'y', 'z'), name='', coord_dtype=float64)\n",
      " |      \n",
      " |      >>> new_affine_mapping = affine_mapping.renamed_range({'w':'u'})\n",
      " |      Traceback (most recent call last):\n",
      " |         ...\n",
      " |      ValueError: no range coordinate named w\n",
      " |  \n",
      " |  reordered_domain(self, order=None)\n",
      " |      New AffineTransform with function_domain reordered\n",
      " |      \n",
      " |      Default behaviour is to reverse the order of the coordinates.\n",
      " |      \n",
      " |      Parameters\n",
      " |      ----------\n",
      " |      order : sequence\n",
      " |         Order to use, defaults to reverse. The elements can be\n",
      " |         integers, strings or 2-tuples of strings.  If they are\n",
      " |         strings, they should be in\n",
      " |         mapping.function_domain.coord_names.\n",
      " |      \n",
      " |      Returns\n",
      " |      -------\n",
      " |      newmapping :AffineTransform\n",
      " |         A new AffineTransform with the coordinates of function_domain\n",
      " |         reordered.\n",
      " |      \n",
      " |      Examples\n",
      " |      --------\n",
      " |      >>> input_cs = CoordinateSystem('ijk')\n",
      " |      >>> output_cs = CoordinateSystem('xyz')\n",
      " |      >>> cm = AffineTransform(input_cs, output_cs, np.identity(4))\n",
      " |      >>> cm.reordered_domain('ikj').function_domain\n",
      " |      CoordinateSystem(coord_names=('i', 'k', 'j'), name='', coord_dtype=float64)\n",
      " |  \n",
      " |  reordered_range(self, order=None)\n",
      " |      New AffineTransform with function_range reordered\n",
      " |      \n",
      " |      Defaults to reversing the coordinates of function_range.\n",
      " |      \n",
      " |      Parameters\n",
      " |      ----------\n",
      " |      order : sequence\n",
      " |         Order to use, defaults to reverse. The elements can be\n",
      " |         integers, strings or 2-tuples of strings.  If they are\n",
      " |         strings, they should be in\n",
      " |         mapping.function_range.coord_names.\n",
      " |      \n",
      " |      Returns\n",
      " |      -------\n",
      " |      newmapping : AffineTransform\n",
      " |         A new AffineTransform with the coordinates of function_range\n",
      " |         reordered.\n",
      " |      \n",
      " |      Examples\n",
      " |      --------\n",
      " |      >>> input_cs = CoordinateSystem('ijk')\n",
      " |      >>> output_cs = CoordinateSystem('xyz')\n",
      " |      >>> cm = AffineTransform(input_cs, output_cs, np.identity(4))\n",
      " |      >>> cm.reordered_range('xzy').function_range\n",
      " |      CoordinateSystem(coord_names=('x', 'z', 'y'), name='', coord_dtype=float64)\n",
      " |      >>> cm.reordered_range([0,2,1]).function_range.coord_names\n",
      " |      ('x', 'z', 'y')\n",
      " |      \n",
      " |      >>> newcm = cm.reordered_range('yzx')\n",
      " |      >>> newcm.function_range.coord_names\n",
      " |      ('y', 'z', 'x')\n",
      " |  \n",
      " |  similar_to(self, other)\n",
      " |      Does `other` have similar coordinate systems and same mappings?\n",
      " |      \n",
      " |      A \"similar\" coordinate system is one with the same coordinate names and\n",
      " |      data dtype, but ignoring the coordinate system name.\n",
      " |  \n",
      " |  ----------------------------------------------------------------------\n",
      " |  Static methods defined here:\n",
      " |  \n",
      " |  from_params(innames, outnames, params, domain_name='', range_name='')\n",
      " |      Create `AffineTransform` from `innames` and `outnames`\n",
      " |      \n",
      " |      Parameters\n",
      " |      ----------\n",
      " |      innames : sequence of str or str\n",
      " |         The names of the axes of the domain.  If str, then names\n",
      " |         given by ``list(innames)``\n",
      " |      outnames : seqence of str or str\n",
      " |         The names of the axes of the range. If str, then names\n",
      " |         given by ``list(outnames)``\n",
      " |      params : AffineTransform, array or (array, array)\n",
      " |         An affine function between the domain and range.\n",
      " |         This can be represented either by a single\n",
      " |         ndarray (which is interpreted as the representation of the\n",
      " |         function in homogeneous coordinates) or an (A,b) tuple.\n",
      " |      domain_name : str, optional\n",
      " |         Name of domain CoordinateSystem\n",
      " |      range_name : str, optional\n",
      " |         Name of range CoordinateSystem\n",
      " |      \n",
      " |      Returns\n",
      " |      -------\n",
      " |      aff : ``AffineTransform``\n",
      " |      \n",
      " |      Notes\n",
      " |      -----\n",
      " |      :Precondition: ``len(shape) == len(names)``\n",
      " |      :Raises ValueError: ``if len(shape) != len(names)``\n",
      " |  \n",
      " |  from_start_step(innames, outnames, start, step, domain_name='', range_name='')\n",
      " |      New `AffineTransform` from names, start and step.\n",
      " |      \n",
      " |      Parameters\n",
      " |      ----------\n",
      " |      innames : sequence of str or str\n",
      " |         The names of the axes of the domain.  If str, then names\n",
      " |         given by ``list(innames)``\n",
      " |      outnames : seqence of str or str\n",
      " |         The names of the axes of the range. If str, then names\n",
      " |         given by ``list(outnames)``\n",
      " |      start : sequence of float\n",
      " |         Start vector used in constructing affine transformation\n",
      " |      step : sequence of float\n",
      " |         Step vector used in constructing affine transformation\n",
      " |      domain_name : str, optional\n",
      " |         Name of domain CoordinateSystem\n",
      " |      range_name : str, optional\n",
      " |         Name of range CoordinateSystem\n",
      " |      \n",
      " |      Returns\n",
      " |      -------\n",
      " |      cm : `CoordinateMap`\n",
      " |      \n",
      " |      Examples\n",
      " |      --------\n",
      " |      >>> cm = AffineTransform.from_start_step('ijk', 'xyz', [1, 2, 3], [4, 5, 6])\n",
      " |      >>> cm.affine\n",
      " |      array([[ 4.,  0.,  0.,  1.],\n",
      " |             [ 0.,  5.,  0.,  2.],\n",
      " |             [ 0.,  0.,  6.,  3.],\n",
      " |             [ 0.,  0.,  0.,  1.]])\n",
      " |      \n",
      " |      Notes\n",
      " |      -----\n",
      " |      ``len(names) == len(start) == len(step)``\n",
      " |  \n",
      " |  identity(coord_names, name='')\n",
      " |      Return an identity coordmap of the given shape\n",
      " |      \n",
      " |      Parameters\n",
      " |      ----------\n",
      " |      coord_names : sequence of str or str\n",
      " |         The names of the axes of the domain.  If str, then names\n",
      " |         given by ``list(coord_names)``\n",
      " |      name : str, optional\n",
      " |         Name of origin of coordinate system\n",
      " |      \n",
      " |      Returns\n",
      " |      -------\n",
      " |      cm : `CoordinateMap`\n",
      " |         ``CoordinateMap`` with ``CoordinateSystem`` domain and an\n",
      " |         identity transform, with identical domain and range.\n",
      " |      \n",
      " |      Examples\n",
      " |      --------\n",
      " |      >>> cm = AffineTransform.identity('ijk', 'somewhere')\n",
      " |      >>> cm.affine\n",
      " |      array([[ 1.,  0.,  0.,  0.],\n",
      " |             [ 0.,  1.,  0.,  0.],\n",
      " |             [ 0.,  0.,  1.,  0.],\n",
      " |             [ 0.,  0.,  0.,  1.]])\n",
      " |      >>> cm.function_domain\n",
      " |      CoordinateSystem(coord_names=('i', 'j', 'k'), name='somewhere', coord_dtype=float64)\n",
      " |      >>> cm.function_range\n",
      " |      CoordinateSystem(coord_names=('i', 'j', 'k'), name='somewhere', coord_dtype=float64)\n",
      " |  \n",
      " |  ----------------------------------------------------------------------\n",
      " |  Data descriptors defined here:\n",
      " |  \n",
      " |  __dict__\n",
      " |      dictionary for instance variables (if defined)\n",
      " |  \n",
      " |  __weakref__\n",
      " |      list of weak references to the object (if defined)\n",
      " |  \n",
      " |  ----------------------------------------------------------------------\n",
      " |  Data and other attributes defined here:\n",
      " |  \n",
      " |  __hash__ = None\n",
      " |  \n",
      " |  affine = array([[3, 0, 0, 0],\n",
      " |         [0, 4, 0, 0],\n",
      " |         [0, 0, 5, 0]...\n",
      " |  \n",
      " |  function_domain = CoordinateSystem(coord_names=('x',), name='', coord_...\n",
      " |  \n",
      " |  function_range = CoordinateSystem(coord_names=('y',), name='', coord_d...\n",
      " |  \n",
      " |  ndims = (3, 3)\n",
      "\n"
     ]
    }
   ],
   "source": [
    "help(AffineTransform)"
   ]
  }
 ],
 "metadata": {
  "kernelspec": {
   "display_name": "Python 3",
   "language": "python",
   "name": "python3"
  },
  "language_info": {
   "codemirror_mode": {
    "name": "ipython",
    "version": 3
   },
   "file_extension": ".py",
   "mimetype": "text/x-python",
   "name": "python",
   "nbconvert_exporter": "python",
   "pygments_lexer": "ipython3",
   "version": "3.9.1"
  }
 },
 "nbformat": 4,
 "nbformat_minor": 5
}
